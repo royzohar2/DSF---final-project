{
 "cells": [
  {
   "cell_type": "code",
   "execution_count": 1,
   "id": "3f7afcce",
   "metadata": {},
   "outputs": [],
   "source": [
    "import pandas as pd\n",
    "from selenium import webdriver\n",
    "from selenium.webdriver.common.keys import Keys\n",
    "from selenium.webdriver.common.by import By\n",
    "\n",
    "from datetime import datetime, timedelta\n",
    "import time\n",
    "\n",
    "\n",
    "import warnings\n",
    "warnings.filterwarnings('ignore')"
   ]
  },
  {
   "cell_type": "code",
   "execution_count": 12,
   "id": "7abca9d1",
   "metadata": {},
   "outputs": [],
   "source": [
    "def single_search(url, driver, Snapshot_date, checking_date_type, checkout_date_type):\n",
    "    \n",
    "\n",
    "    hotels = []\n",
    "    index = 1\n",
    "    \n",
    "    driver.get(url)\n",
    "    for i in [1,2]:\n",
    "        button=driver.find_element(by =By.CSS_SELECTOR,value =f'[data-stid=\"show-more-results\"]')\n",
    "        button.click()\n",
    "        time.sleep(2) \n",
    "    \n",
    "    text_boxes_list = driver.find_elements(by= By.CLASS_NAME , value='uitk-card-content-section')\n",
    "    \n",
    "    for t_box in text_boxes_list:\n",
    "        try:\n",
    "            hotel = {'Snapshot' : None ,'Index':None,'Hotel Name':None,'TTT':None,'LOS':None ,\"Grade\":None,\n",
    "                     \"Num of Reviews\":None,\"Curr Price\":None,\"Original Price\":None,\"Distance from center\":None,\n",
    "                     \"Type of room\":None,\"Location grade\":None ,\"Extra Data\":None}\n",
    "            \n",
    "            name = t_box.find_element(by= By.CLASS_NAME , value=\"uitk-heading\").text\n",
    "            score = t_box.find_element(By.CLASS_NAME, 'uitk-spacing-padding-inlineend-half').text\n",
    "            price = t_box.find_element(By.CSS_SELECTOR, \"div[data-test-id='price-summary-message-line']\").text.split('$')\n",
    "          \n",
    "            hotel['Snapshot'] = Snapshot_date\n",
    "            hotel['Index'] = index\n",
    "            hotel['Hotel Name'] = name\n",
    "            hotel['TTT'] = (checking_date_type - Snapshot_date).days\n",
    "            hotel['LOS'] = (checkout_date_type - checking_date_type).days\n",
    "            hotel['Grade'] = score \n",
    "            '''hotel['Curr Price'] = price[-1]\n",
    "            if len(price) > 3:\n",
    "                hotel['Original Price'] = price[1].split('\\n')[0]'''\n",
    "            hotels.append(hotel)\n",
    "            \n",
    "            index = index + 1\n",
    "        except:\n",
    "             print('error')\n",
    "    \n",
    "    return pd.DataFrame.from_dict(hotels)"
   ]
  },
  {
   "cell_type": "code",
   "execution_count": 13,
   "id": "67562e8f",
   "metadata": {},
   "outputs": [],
   "source": [
    "#Allows us to run on different computers without a problem\n",
    "\n",
    "path ={'roy' :'C:\\Windows\\chromdriver.exe' , 'yarin': r\"C:\\Users\\yarin\\chromedriver.exe\", 'yair':'C:\\Windows\\chromdriver.exe' }\n",
    "driver = webdriver.Chrome(path['yarin'])"
   ]
  },
  {
   "cell_type": "code",
   "execution_count": 14,
   "id": "d298b719",
   "metadata": {},
   "outputs": [
    {
     "name": "stdout",
     "output_type": "stream",
     "text": [
      "[['2023-02-08', '2023-02-09'], ['2023-02-08', '2023-02-10'], ['2023-02-08', '2023-02-11'], ['2023-02-08', '2023-02-12'], ['2023-02-08', '2023-02-13'], ['2023-02-09', '2023-02-10'], ['2023-02-09', '2023-02-11'], ['2023-02-09', '2023-02-12'], ['2023-02-09', '2023-02-13'], ['2023-02-09', '2023-02-14'], ['2023-02-10', '2023-02-11'], ['2023-02-10', '2023-02-12'], ['2023-02-10', '2023-02-13'], ['2023-02-10', '2023-02-14'], ['2023-02-10', '2023-02-15'], ['2023-02-11', '2023-02-12'], ['2023-02-11', '2023-02-13'], ['2023-02-11', '2023-02-14'], ['2023-02-11', '2023-02-15'], ['2023-02-11', '2023-02-16'], ['2023-02-12', '2023-02-13'], ['2023-02-12', '2023-02-14'], ['2023-02-12', '2023-02-15'], ['2023-02-12', '2023-02-16'], ['2023-02-12', '2023-02-17'], ['2023-02-13', '2023-02-14'], ['2023-02-13', '2023-02-15'], ['2023-02-13', '2023-02-16'], ['2023-02-13', '2023-02-17'], ['2023-02-13', '2023-02-18'], ['2023-02-14', '2023-02-15'], ['2023-02-14', '2023-02-16'], ['2023-02-14', '2023-02-17'], ['2023-02-14', '2023-02-18'], ['2023-02-14', '2023-02-19'], ['2023-02-15', '2023-02-16'], ['2023-02-15', '2023-02-17'], ['2023-02-15', '2023-02-18'], ['2023-02-15', '2023-02-19'], ['2023-02-15', '2023-02-20'], ['2023-02-16', '2023-02-17'], ['2023-02-16', '2023-02-18'], ['2023-02-16', '2023-02-19'], ['2023-02-16', '2023-02-20'], ['2023-02-16', '2023-02-21'], ['2023-02-17', '2023-02-18'], ['2023-02-17', '2023-02-19'], ['2023-02-17', '2023-02-20'], ['2023-02-17', '2023-02-21'], ['2023-02-17', '2023-02-22'], ['2023-02-18', '2023-02-19'], ['2023-02-18', '2023-02-20'], ['2023-02-18', '2023-02-21'], ['2023-02-18', '2023-02-22'], ['2023-02-18', '2023-02-23'], ['2023-02-19', '2023-02-20'], ['2023-02-19', '2023-02-21'], ['2023-02-19', '2023-02-22'], ['2023-02-19', '2023-02-23'], ['2023-02-19', '2023-02-24'], ['2023-02-20', '2023-02-21'], ['2023-02-20', '2023-02-22'], ['2023-02-20', '2023-02-23'], ['2023-02-20', '2023-02-24'], ['2023-02-20', '2023-02-25'], ['2023-02-21', '2023-02-22'], ['2023-02-21', '2023-02-23'], ['2023-02-21', '2023-02-24'], ['2023-02-21', '2023-02-25'], ['2023-02-21', '2023-02-26'], ['2023-02-22', '2023-02-23'], ['2023-02-22', '2023-02-24'], ['2023-02-22', '2023-02-25'], ['2023-02-22', '2023-02-26'], ['2023-02-22', '2023-02-27'], ['2023-02-23', '2023-02-24'], ['2023-02-23', '2023-02-25'], ['2023-02-23', '2023-02-26'], ['2023-02-23', '2023-02-27'], ['2023-02-23', '2023-02-28'], ['2023-02-24', '2023-02-25'], ['2023-02-24', '2023-02-26'], ['2023-02-24', '2023-02-27'], ['2023-02-24', '2023-02-28'], ['2023-02-24', '2023-03-01'], ['2023-02-25', '2023-02-26'], ['2023-02-25', '2023-02-27'], ['2023-02-25', '2023-02-28'], ['2023-02-25', '2023-03-01'], ['2023-02-25', '2023-03-02'], ['2023-02-26', '2023-02-27'], ['2023-02-26', '2023-02-28'], ['2023-02-26', '2023-03-01'], ['2023-02-26', '2023-03-02'], ['2023-02-26', '2023-03-03'], ['2023-02-27', '2023-02-28'], ['2023-02-27', '2023-03-01'], ['2023-02-27', '2023-03-02'], ['2023-02-27', '2023-03-03'], ['2023-02-27', '2023-03-04'], ['2023-02-28', '2023-03-01'], ['2023-02-28', '2023-03-02'], ['2023-02-28', '2023-03-03'], ['2023-02-28', '2023-03-04'], ['2023-02-28', '2023-03-05'], ['2023-03-01', '2023-03-02'], ['2023-03-01', '2023-03-03'], ['2023-03-01', '2023-03-04'], ['2023-03-01', '2023-03-05'], ['2023-03-01', '2023-03-06'], ['2023-03-02', '2023-03-03'], ['2023-03-02', '2023-03-04'], ['2023-03-02', '2023-03-05'], ['2023-03-02', '2023-03-06'], ['2023-03-02', '2023-03-07'], ['2023-03-03', '2023-03-04'], ['2023-03-03', '2023-03-05'], ['2023-03-03', '2023-03-06'], ['2023-03-03', '2023-03-07'], ['2023-03-03', '2023-03-08'], ['2023-03-04', '2023-03-05'], ['2023-03-04', '2023-03-06'], ['2023-03-04', '2023-03-07'], ['2023-03-04', '2023-03-08'], ['2023-03-04', '2023-03-09'], ['2023-03-05', '2023-03-06'], ['2023-03-05', '2023-03-07'], ['2023-03-05', '2023-03-08'], ['2023-03-05', '2023-03-09'], ['2023-03-05', '2023-03-10'], ['2023-03-06', '2023-03-07'], ['2023-03-06', '2023-03-08'], ['2023-03-06', '2023-03-09'], ['2023-03-06', '2023-03-10'], ['2023-03-06', '2023-03-11'], ['2023-03-07', '2023-03-08'], ['2023-03-07', '2023-03-09'], ['2023-03-07', '2023-03-10'], ['2023-03-07', '2023-03-11'], ['2023-03-07', '2023-03-12'], ['2023-03-08', '2023-03-09'], ['2023-03-08', '2023-03-10'], ['2023-03-08', '2023-03-11'], ['2023-03-08', '2023-03-12'], ['2023-03-08', '2023-03-13'], ['2023-03-09', '2023-03-10'], ['2023-03-09', '2023-03-11'], ['2023-03-09', '2023-03-12'], ['2023-03-09', '2023-03-13'], ['2023-03-09', '2023-03-14']] 150\n"
     ]
    }
   ],
   "source": [
    "# Get today's date\n",
    "now = datetime.now()\n",
    "Snapshot_date =now\n",
    "# Get end date 35 days from now\n",
    "end_date = now + timedelta(days=35)\n",
    "\n",
    "# Create a list of all dates between today and end date\n",
    "date_list = []\n",
    "while now <= end_date:\n",
    "    date_list.append(now.strftime('%Y-%m-%d'))\n",
    "    now += timedelta(days=1)\n",
    "\n",
    "\n",
    "#Creates a list whose every member is a list of checking and checkout time\n",
    "\n",
    "combinations_list =[]\n",
    "for i in range(1,len(date_list)-5):\n",
    "    for j in range(1,6):\n",
    "        combinations = [date_list[i],date_list[i+j]]\n",
    "        combinations_list.append(combinations)\n",
    "\n",
    "print(combinations_list , len(combinations_list)) "
   ]
  },
  {
   "cell_type": "code",
   "execution_count": 15,
   "id": "e6632a50",
   "metadata": {},
   "outputs": [
    {
     "ename": "NoSuchElementException",
     "evalue": "Message: no such element: Unable to locate element: {\"method\":\"css selector\",\"selector\":\"[data-stid=\"show-more-results\"]\"}\n  (Session info: chrome=109.0.5414.120)\nStacktrace:\nBacktrace:\n\t(No symbol) [0x00E56643]\n\t(No symbol) [0x00DEBE21]\n\t(No symbol) [0x00CEDA9D]\n\t(No symbol) [0x00D21342]\n\t(No symbol) [0x00D2147B]\n\t(No symbol) [0x00D58DC2]\n\t(No symbol) [0x00D3FDC4]\n\t(No symbol) [0x00D56B09]\n\t(No symbol) [0x00D3FB76]\n\t(No symbol) [0x00D149C1]\n\t(No symbol) [0x00D15E5D]\n\tGetHandleVerifier [0x010CA142+2497106]\n\tGetHandleVerifier [0x010F85D3+2686691]\n\tGetHandleVerifier [0x010FBB9C+2700460]\n\tGetHandleVerifier [0x00F03B10+635936]\n\t(No symbol) [0x00DF4A1F]\n\t(No symbol) [0x00DFA418]\n\t(No symbol) [0x00DFA505]\n\t(No symbol) [0x00E0508B]\n\tBaseThreadInitThunk [0x769200F9+25]\n\tRtlGetAppContainerNamedObjectPath [0x77377BBE+286]\n\tRtlGetAppContainerNamedObjectPath [0x77377B8E+238]\n",
     "output_type": "error",
     "traceback": [
      "\u001b[1;31m---------------------------------------------------------------------------\u001b[0m",
      "\u001b[1;31mNoSuchElementException\u001b[0m                    Traceback (most recent call last)",
      "\u001b[1;32m~\\AppData\\Local\\Temp\\ipykernel_30700\\3721130688.py\u001b[0m in \u001b[0;36m<module>\u001b[1;34m\u001b[0m\n\u001b[0;32m     25\u001b[0m     \u001b[0mcheckout_monthday\u001b[0m\u001b[1;33m=\u001b[0m \u001b[0mcheckout_date\u001b[0m\u001b[1;33m[\u001b[0m\u001b[1;36m2\u001b[0m\u001b[1;33m]\u001b[0m\u001b[1;33m\u001b[0m\u001b[1;33m\u001b[0m\u001b[0m\n\u001b[0;32m     26\u001b[0m     \u001b[0murl\u001b[0m \u001b[1;33m=\u001b[0m \u001b[1;34mf\"https://www.expedia.com/Hotel-Search?adults={numOfAdults}&d1={comb[0]}&d2={comb[1]}&destination={city}&endDate={comb[1]}&latLong={city_latlong}&regionId={city_region_id}&rooms={numOfRooms}&semdtl=&sort=RECOMMENDED&startDate={comb[0]}&theme=&useRewards=false&userIntent=\"\u001b[0m\u001b[1;33m\u001b[0m\u001b[1;33m\u001b[0m\u001b[0m\n\u001b[1;32m---> 27\u001b[1;33m     \u001b[0msingle_search_df\u001b[0m  \u001b[1;33m=\u001b[0m \u001b[0msingle_search\u001b[0m\u001b[1;33m(\u001b[0m\u001b[0murl\u001b[0m\u001b[1;33m,\u001b[0m \u001b[0mdriver\u001b[0m \u001b[1;33m,\u001b[0m \u001b[0mSnapshot_date\u001b[0m\u001b[1;33m,\u001b[0m \u001b[0mchecking_date_type\u001b[0m\u001b[1;33m,\u001b[0m \u001b[0mcheckout_date_type\u001b[0m\u001b[1;33m)\u001b[0m\u001b[1;33m\u001b[0m\u001b[1;33m\u001b[0m\u001b[0m\n\u001b[0m\u001b[0;32m     28\u001b[0m     \u001b[0mexpedia_df\u001b[0m \u001b[1;33m=\u001b[0m \u001b[0mpd\u001b[0m\u001b[1;33m.\u001b[0m\u001b[0mconcat\u001b[0m\u001b[1;33m(\u001b[0m\u001b[1;33m[\u001b[0m\u001b[0mexpedia_df\u001b[0m\u001b[1;33m,\u001b[0m \u001b[0msingle_search_df\u001b[0m\u001b[1;33m]\u001b[0m\u001b[1;33m)\u001b[0m\u001b[1;33m\u001b[0m\u001b[1;33m\u001b[0m\u001b[0m\n\u001b[0;32m     29\u001b[0m     \u001b[0mprint\u001b[0m\u001b[1;33m(\u001b[0m\u001b[0msingle_search_df\u001b[0m\u001b[1;33m)\u001b[0m\u001b[1;33m\u001b[0m\u001b[1;33m\u001b[0m\u001b[0m\n",
      "\u001b[1;32m~\\AppData\\Local\\Temp\\ipykernel_30700\\1775911215.py\u001b[0m in \u001b[0;36msingle_search\u001b[1;34m(url, driver, Snapshot_date, checking_date_type, checkout_date_type)\u001b[0m\n\u001b[0;32m      7\u001b[0m     \u001b[0mdriver\u001b[0m\u001b[1;33m.\u001b[0m\u001b[0mget\u001b[0m\u001b[1;33m(\u001b[0m\u001b[0murl\u001b[0m\u001b[1;33m)\u001b[0m\u001b[1;33m\u001b[0m\u001b[1;33m\u001b[0m\u001b[0m\n\u001b[0;32m      8\u001b[0m     \u001b[1;32mfor\u001b[0m \u001b[0mi\u001b[0m \u001b[1;32min\u001b[0m \u001b[1;33m[\u001b[0m\u001b[1;36m1\u001b[0m\u001b[1;33m,\u001b[0m\u001b[1;36m2\u001b[0m\u001b[1;33m]\u001b[0m\u001b[1;33m:\u001b[0m\u001b[1;33m\u001b[0m\u001b[1;33m\u001b[0m\u001b[0m\n\u001b[1;32m----> 9\u001b[1;33m         \u001b[0mbutton\u001b[0m\u001b[1;33m=\u001b[0m\u001b[0mdriver\u001b[0m\u001b[1;33m.\u001b[0m\u001b[0mfind_element\u001b[0m\u001b[1;33m(\u001b[0m\u001b[0mby\u001b[0m \u001b[1;33m=\u001b[0m\u001b[0mBy\u001b[0m\u001b[1;33m.\u001b[0m\u001b[0mCSS_SELECTOR\u001b[0m\u001b[1;33m,\u001b[0m\u001b[0mvalue\u001b[0m \u001b[1;33m=\u001b[0m\u001b[1;34mf'[data-stid=\"show-more-results\"]'\u001b[0m\u001b[1;33m)\u001b[0m\u001b[1;33m\u001b[0m\u001b[1;33m\u001b[0m\u001b[0m\n\u001b[0m\u001b[0;32m     10\u001b[0m         \u001b[0mbutton\u001b[0m\u001b[1;33m.\u001b[0m\u001b[0mclick\u001b[0m\u001b[1;33m(\u001b[0m\u001b[1;33m)\u001b[0m\u001b[1;33m\u001b[0m\u001b[1;33m\u001b[0m\u001b[0m\n\u001b[0;32m     11\u001b[0m         \u001b[0mtime\u001b[0m\u001b[1;33m.\u001b[0m\u001b[0msleep\u001b[0m\u001b[1;33m(\u001b[0m\u001b[1;36m2\u001b[0m\u001b[1;33m)\u001b[0m\u001b[1;33m\u001b[0m\u001b[1;33m\u001b[0m\u001b[0m\n",
      "\u001b[1;32mc:\\Users\\yarin\\Anaconda3\\lib\\site-packages\\selenium\\webdriver\\remote\\webdriver.py\u001b[0m in \u001b[0;36mfind_element\u001b[1;34m(self, by, value)\u001b[0m\n\u001b[0;32m    828\u001b[0m             \u001b[0mvalue\u001b[0m \u001b[1;33m=\u001b[0m \u001b[1;34mf'[name=\"{value}\"]'\u001b[0m\u001b[1;33m\u001b[0m\u001b[1;33m\u001b[0m\u001b[0m\n\u001b[0;32m    829\u001b[0m \u001b[1;33m\u001b[0m\u001b[0m\n\u001b[1;32m--> 830\u001b[1;33m         \u001b[1;32mreturn\u001b[0m \u001b[0mself\u001b[0m\u001b[1;33m.\u001b[0m\u001b[0mexecute\u001b[0m\u001b[1;33m(\u001b[0m\u001b[0mCommand\u001b[0m\u001b[1;33m.\u001b[0m\u001b[0mFIND_ELEMENT\u001b[0m\u001b[1;33m,\u001b[0m \u001b[1;33m{\u001b[0m\u001b[1;34m\"using\"\u001b[0m\u001b[1;33m:\u001b[0m \u001b[0mby\u001b[0m\u001b[1;33m,\u001b[0m \u001b[1;34m\"value\"\u001b[0m\u001b[1;33m:\u001b[0m \u001b[0mvalue\u001b[0m\u001b[1;33m}\u001b[0m\u001b[1;33m)\u001b[0m\u001b[1;33m[\u001b[0m\u001b[1;34m\"value\"\u001b[0m\u001b[1;33m]\u001b[0m\u001b[1;33m\u001b[0m\u001b[1;33m\u001b[0m\u001b[0m\n\u001b[0m\u001b[0;32m    831\u001b[0m \u001b[1;33m\u001b[0m\u001b[0m\n\u001b[0;32m    832\u001b[0m     \u001b[1;32mdef\u001b[0m \u001b[0mfind_elements\u001b[0m\u001b[1;33m(\u001b[0m\u001b[0mself\u001b[0m\u001b[1;33m,\u001b[0m \u001b[0mby\u001b[0m\u001b[1;33m=\u001b[0m\u001b[0mBy\u001b[0m\u001b[1;33m.\u001b[0m\u001b[0mID\u001b[0m\u001b[1;33m,\u001b[0m \u001b[0mvalue\u001b[0m\u001b[1;33m:\u001b[0m \u001b[0mOptional\u001b[0m\u001b[1;33m[\u001b[0m\u001b[0mstr\u001b[0m\u001b[1;33m]\u001b[0m \u001b[1;33m=\u001b[0m \u001b[1;32mNone\u001b[0m\u001b[1;33m)\u001b[0m \u001b[1;33m->\u001b[0m \u001b[0mList\u001b[0m\u001b[1;33m[\u001b[0m\u001b[0mWebElement\u001b[0m\u001b[1;33m]\u001b[0m\u001b[1;33m:\u001b[0m\u001b[1;33m\u001b[0m\u001b[1;33m\u001b[0m\u001b[0m\n",
      "\u001b[1;32mc:\\Users\\yarin\\Anaconda3\\lib\\site-packages\\selenium\\webdriver\\remote\\webdriver.py\u001b[0m in \u001b[0;36mexecute\u001b[1;34m(self, driver_command, params)\u001b[0m\n\u001b[0;32m    438\u001b[0m         \u001b[0mresponse\u001b[0m \u001b[1;33m=\u001b[0m \u001b[0mself\u001b[0m\u001b[1;33m.\u001b[0m\u001b[0mcommand_executor\u001b[0m\u001b[1;33m.\u001b[0m\u001b[0mexecute\u001b[0m\u001b[1;33m(\u001b[0m\u001b[0mdriver_command\u001b[0m\u001b[1;33m,\u001b[0m \u001b[0mparams\u001b[0m\u001b[1;33m)\u001b[0m\u001b[1;33m\u001b[0m\u001b[1;33m\u001b[0m\u001b[0m\n\u001b[0;32m    439\u001b[0m         \u001b[1;32mif\u001b[0m \u001b[0mresponse\u001b[0m\u001b[1;33m:\u001b[0m\u001b[1;33m\u001b[0m\u001b[1;33m\u001b[0m\u001b[0m\n\u001b[1;32m--> 440\u001b[1;33m             \u001b[0mself\u001b[0m\u001b[1;33m.\u001b[0m\u001b[0merror_handler\u001b[0m\u001b[1;33m.\u001b[0m\u001b[0mcheck_response\u001b[0m\u001b[1;33m(\u001b[0m\u001b[0mresponse\u001b[0m\u001b[1;33m)\u001b[0m\u001b[1;33m\u001b[0m\u001b[1;33m\u001b[0m\u001b[0m\n\u001b[0m\u001b[0;32m    441\u001b[0m             \u001b[0mresponse\u001b[0m\u001b[1;33m[\u001b[0m\u001b[1;34m\"value\"\u001b[0m\u001b[1;33m]\u001b[0m \u001b[1;33m=\u001b[0m \u001b[0mself\u001b[0m\u001b[1;33m.\u001b[0m\u001b[0m_unwrap_value\u001b[0m\u001b[1;33m(\u001b[0m\u001b[0mresponse\u001b[0m\u001b[1;33m.\u001b[0m\u001b[0mget\u001b[0m\u001b[1;33m(\u001b[0m\u001b[1;34m\"value\"\u001b[0m\u001b[1;33m,\u001b[0m \u001b[1;32mNone\u001b[0m\u001b[1;33m)\u001b[0m\u001b[1;33m)\u001b[0m\u001b[1;33m\u001b[0m\u001b[1;33m\u001b[0m\u001b[0m\n\u001b[0;32m    442\u001b[0m             \u001b[1;32mreturn\u001b[0m \u001b[0mresponse\u001b[0m\u001b[1;33m\u001b[0m\u001b[1;33m\u001b[0m\u001b[0m\n",
      "\u001b[1;32mc:\\Users\\yarin\\Anaconda3\\lib\\site-packages\\selenium\\webdriver\\remote\\errorhandler.py\u001b[0m in \u001b[0;36mcheck_response\u001b[1;34m(self, response)\u001b[0m\n\u001b[0;32m    243\u001b[0m                 \u001b[0malert_text\u001b[0m \u001b[1;33m=\u001b[0m \u001b[0mvalue\u001b[0m\u001b[1;33m[\u001b[0m\u001b[1;34m\"alert\"\u001b[0m\u001b[1;33m]\u001b[0m\u001b[1;33m.\u001b[0m\u001b[0mget\u001b[0m\u001b[1;33m(\u001b[0m\u001b[1;34m\"text\"\u001b[0m\u001b[1;33m)\u001b[0m\u001b[1;33m\u001b[0m\u001b[1;33m\u001b[0m\u001b[0m\n\u001b[0;32m    244\u001b[0m             \u001b[1;32mraise\u001b[0m \u001b[0mexception_class\u001b[0m\u001b[1;33m(\u001b[0m\u001b[0mmessage\u001b[0m\u001b[1;33m,\u001b[0m \u001b[0mscreen\u001b[0m\u001b[1;33m,\u001b[0m \u001b[0mstacktrace\u001b[0m\u001b[1;33m,\u001b[0m \u001b[0malert_text\u001b[0m\u001b[1;33m)\u001b[0m  \u001b[1;31m# type: ignore[call-arg]  # mypy is not smart enough here\u001b[0m\u001b[1;33m\u001b[0m\u001b[1;33m\u001b[0m\u001b[0m\n\u001b[1;32m--> 245\u001b[1;33m         \u001b[1;32mraise\u001b[0m \u001b[0mexception_class\u001b[0m\u001b[1;33m(\u001b[0m\u001b[0mmessage\u001b[0m\u001b[1;33m,\u001b[0m \u001b[0mscreen\u001b[0m\u001b[1;33m,\u001b[0m \u001b[0mstacktrace\u001b[0m\u001b[1;33m)\u001b[0m\u001b[1;33m\u001b[0m\u001b[1;33m\u001b[0m\u001b[0m\n\u001b[0m",
      "\u001b[1;31mNoSuchElementException\u001b[0m: Message: no such element: Unable to locate element: {\"method\":\"css selector\",\"selector\":\"[data-stid=\"show-more-results\"]\"}\n  (Session info: chrome=109.0.5414.120)\nStacktrace:\nBacktrace:\n\t(No symbol) [0x00E56643]\n\t(No symbol) [0x00DEBE21]\n\t(No symbol) [0x00CEDA9D]\n\t(No symbol) [0x00D21342]\n\t(No symbol) [0x00D2147B]\n\t(No symbol) [0x00D58DC2]\n\t(No symbol) [0x00D3FDC4]\n\t(No symbol) [0x00D56B09]\n\t(No symbol) [0x00D3FB76]\n\t(No symbol) [0x00D149C1]\n\t(No symbol) [0x00D15E5D]\n\tGetHandleVerifier [0x010CA142+2497106]\n\tGetHandleVerifier [0x010F85D3+2686691]\n\tGetHandleVerifier [0x010FBB9C+2700460]\n\tGetHandleVerifier [0x00F03B10+635936]\n\t(No symbol) [0x00DF4A1F]\n\t(No symbol) [0x00DFA418]\n\t(No symbol) [0x00DFA505]\n\t(No symbol) [0x00E0508B]\n\tBaseThreadInitThunk [0x769200F9+25]\n\tRtlGetAppContainerNamedObjectPath [0x77377BBE+286]\n\tRtlGetAppContainerNamedObjectPath [0x77377B8E+238]\n"
     ]
    }
   ],
   "source": [
    "# for dev\n",
    "combinations_list = [combinations_list[0]]\n",
    "# END - for dev\n",
    "\n",
    "\n",
    "\n",
    "city = \"New%20York%20%28and%20vicinity%29%2C%20New%20York%2C%20United%20States%20of%20America\"\n",
    "city_latlong = 'latLong=40.75668%2C-73.98647'\n",
    "city_region_id = '178293'\n",
    "numOfAdults=2\n",
    "numOfChild=0\n",
    "numOfRooms=1\n",
    "expedia_df = pd.DataFrame(columns=['Snapshot','Index','Hotel Name','TTT' ,'LOS' ,\"Grade\",\"Num of Reviews\",\"Curr Price\",\"Original Price\",\n",
    "                                   \"Distance from center\",\"Type of room\",\"Location grade\", \"Extra Data\"])\n",
    "for comb in combinations_list:\n",
    "    checking_date_type = datetime.strptime(comb[0], '%Y-%m-%d')\n",
    "    checkout_date_type = datetime.strptime(comb[1], '%Y-%m-%d')\n",
    "    checking_date = comb[0].split('-')\n",
    "    checkout_date = comb[1].split('-')\n",
    "    checking_year = checking_date[0]\n",
    "    checking_month = checking_date[1]\n",
    "    checking_monthday =checking_date[2]\n",
    "    checkout_year= checkout_date[0]\n",
    "    checkout_month= checkout_date[1]\n",
    "    checkout_monthday= checkout_date[2]\n",
    "    url = f\"https://www.expedia.com/Hotel-Search?adults={numOfAdults}&d1={comb[0]}&d2={comb[1]}&destination={city}&endDate={comb[1]}&latLong={city_latlong}&regionId={city_region_id}&rooms={numOfRooms}&semdtl=&sort=RECOMMENDED&startDate={comb[0]}&theme=&useRewards=false&userIntent=\"\n",
    "    single_search_df  = single_search(url, driver , Snapshot_date, checking_date_type, checkout_date_type)\n",
    "    expedia_df = pd.concat([expedia_df, single_search_df])\n",
    "    print(single_search_df)\n",
    "#driver.quit()"
   ]
  },
  {
   "cell_type": "code",
   "execution_count": 10,
   "id": "bbc39084",
   "metadata": {},
   "outputs": [
    {
     "data": {
      "text/html": [
       "<div>\n",
       "<style scoped>\n",
       "    .dataframe tbody tr th:only-of-type {\n",
       "        vertical-align: middle;\n",
       "    }\n",
       "\n",
       "    .dataframe tbody tr th {\n",
       "        vertical-align: top;\n",
       "    }\n",
       "\n",
       "    .dataframe thead th {\n",
       "        text-align: right;\n",
       "    }\n",
       "</style>\n",
       "<table border=\"1\" class=\"dataframe\">\n",
       "  <thead>\n",
       "    <tr style=\"text-align: right;\">\n",
       "      <th></th>\n",
       "      <th>Snapshot</th>\n",
       "      <th>Index</th>\n",
       "      <th>Hotel Name</th>\n",
       "      <th>TTT</th>\n",
       "      <th>LOS</th>\n",
       "      <th>Grade</th>\n",
       "      <th>Num of Reviews</th>\n",
       "      <th>Curr Price</th>\n",
       "      <th>Original Price</th>\n",
       "      <th>Distance from center</th>\n",
       "      <th>Type of room</th>\n",
       "      <th>Location grade</th>\n",
       "      <th>Extra Data</th>\n",
       "    </tr>\n",
       "  </thead>\n",
       "  <tbody>\n",
       "    <tr>\n",
       "      <th>0</th>\n",
       "      <td>2023-02-07 11:13:13.400517</td>\n",
       "      <td>1</td>\n",
       "      <td>Hotel 32 32</td>\n",
       "      <td>0</td>\n",
       "      <td>1</td>\n",
       "      <td>8.0</td>\n",
       "      <td>None</td>\n",
       "      <td>170</td>\n",
       "      <td>227</td>\n",
       "      <td>None</td>\n",
       "      <td>None</td>\n",
       "      <td>None</td>\n",
       "      <td>None</td>\n",
       "    </tr>\n",
       "    <tr>\n",
       "      <th>1</th>\n",
       "      <td>2023-02-07 11:13:13.400517</td>\n",
       "      <td>2</td>\n",
       "      <td>Omni Berkshire Place</td>\n",
       "      <td>0</td>\n",
       "      <td>1</td>\n",
       "      <td>9.0</td>\n",
       "      <td>None</td>\n",
       "      <td>269</td>\n",
       "      <td>299</td>\n",
       "      <td>None</td>\n",
       "      <td>None</td>\n",
       "      <td>None</td>\n",
       "      <td>None</td>\n",
       "    </tr>\n",
       "    <tr>\n",
       "      <th>2</th>\n",
       "      <td>2023-02-07 11:13:13.400517</td>\n",
       "      <td>3</td>\n",
       "      <td>New York Marriott Marquis</td>\n",
       "      <td>0</td>\n",
       "      <td>1</td>\n",
       "      <td>8.8</td>\n",
       "      <td>None</td>\n",
       "      <td>329</td>\n",
       "      <td>None</td>\n",
       "      <td>None</td>\n",
       "      <td>None</td>\n",
       "      <td>None</td>\n",
       "      <td>None</td>\n",
       "    </tr>\n",
       "    <tr>\n",
       "      <th>3</th>\n",
       "      <td>2023-02-07 11:13:13.400517</td>\n",
       "      <td>4</td>\n",
       "      <td>Element New York Times Square West, a Marriott...</td>\n",
       "      <td>0</td>\n",
       "      <td>1</td>\n",
       "      <td>7.8</td>\n",
       "      <td>None</td>\n",
       "      <td>107</td>\n",
       "      <td>119</td>\n",
       "      <td>None</td>\n",
       "      <td>None</td>\n",
       "      <td>None</td>\n",
       "      <td>None</td>\n",
       "    </tr>\n",
       "    <tr>\n",
       "      <th>4</th>\n",
       "      <td>2023-02-07 11:13:13.400517</td>\n",
       "      <td>5</td>\n",
       "      <td>Truss Hotel Times Square</td>\n",
       "      <td>0</td>\n",
       "      <td>1</td>\n",
       "      <td>7.8</td>\n",
       "      <td>None</td>\n",
       "      <td>116</td>\n",
       "      <td>129</td>\n",
       "      <td>None</td>\n",
       "      <td>None</td>\n",
       "      <td>None</td>\n",
       "      <td>None</td>\n",
       "    </tr>\n",
       "    <tr>\n",
       "      <th>5</th>\n",
       "      <td>2023-02-07 11:13:13.400517</td>\n",
       "      <td>6</td>\n",
       "      <td>Park Central Hotel New York</td>\n",
       "      <td>0</td>\n",
       "      <td>1</td>\n",
       "      <td>8.0</td>\n",
       "      <td>None</td>\n",
       "      <td>98</td>\n",
       "      <td>109</td>\n",
       "      <td>None</td>\n",
       "      <td>None</td>\n",
       "      <td>None</td>\n",
       "      <td>None</td>\n",
       "    </tr>\n",
       "    <tr>\n",
       "      <th>6</th>\n",
       "      <td>2023-02-07 11:13:13.400517</td>\n",
       "      <td>7</td>\n",
       "      <td>Pod Times Square</td>\n",
       "      <td>0</td>\n",
       "      <td>1</td>\n",
       "      <td>8.6</td>\n",
       "      <td>None</td>\n",
       "      <td>89</td>\n",
       "      <td>None</td>\n",
       "      <td>None</td>\n",
       "      <td>None</td>\n",
       "      <td>None</td>\n",
       "      <td>None</td>\n",
       "    </tr>\n",
       "    <tr>\n",
       "      <th>7</th>\n",
       "      <td>2023-02-07 11:13:13.400517</td>\n",
       "      <td>8</td>\n",
       "      <td>Hyatt Place New York City/Times Square</td>\n",
       "      <td>0</td>\n",
       "      <td>1</td>\n",
       "      <td>7.8</td>\n",
       "      <td>None</td>\n",
       "      <td>119</td>\n",
       "      <td>None</td>\n",
       "      <td>None</td>\n",
       "      <td>None</td>\n",
       "      <td>None</td>\n",
       "      <td>None</td>\n",
       "    </tr>\n",
       "    <tr>\n",
       "      <th>8</th>\n",
       "      <td>2023-02-07 11:13:13.400517</td>\n",
       "      <td>9</td>\n",
       "      <td>Hilton Garden Inn Long Island City New York</td>\n",
       "      <td>0</td>\n",
       "      <td>1</td>\n",
       "      <td>8.6</td>\n",
       "      <td>None</td>\n",
       "      <td>149</td>\n",
       "      <td>None</td>\n",
       "      <td>None</td>\n",
       "      <td>None</td>\n",
       "      <td>None</td>\n",
       "      <td>None</td>\n",
       "    </tr>\n",
       "  </tbody>\n",
       "</table>\n",
       "</div>"
      ],
      "text/plain": [
       "                    Snapshot Index  \\\n",
       "0 2023-02-07 11:13:13.400517     1   \n",
       "1 2023-02-07 11:13:13.400517     2   \n",
       "2 2023-02-07 11:13:13.400517     3   \n",
       "3 2023-02-07 11:13:13.400517     4   \n",
       "4 2023-02-07 11:13:13.400517     5   \n",
       "5 2023-02-07 11:13:13.400517     6   \n",
       "6 2023-02-07 11:13:13.400517     7   \n",
       "7 2023-02-07 11:13:13.400517     8   \n",
       "8 2023-02-07 11:13:13.400517     9   \n",
       "\n",
       "                                          Hotel Name TTT LOS Grade  \\\n",
       "0                                        Hotel 32 32   0   1   8.0   \n",
       "1                               Omni Berkshire Place   0   1   9.0   \n",
       "2                          New York Marriott Marquis   0   1   8.8   \n",
       "3  Element New York Times Square West, a Marriott...   0   1   7.8   \n",
       "4                           Truss Hotel Times Square   0   1   7.8   \n",
       "5                        Park Central Hotel New York   0   1   8.0   \n",
       "6                                   Pod Times Square   0   1   8.6   \n",
       "7             Hyatt Place New York City/Times Square   0   1   7.8   \n",
       "8        Hilton Garden Inn Long Island City New York   0   1   8.6   \n",
       "\n",
       "  Num of Reviews Curr Price Original Price Distance from center Type of room  \\\n",
       "0           None        170            227                 None         None   \n",
       "1           None        269            299                 None         None   \n",
       "2           None        329           None                 None         None   \n",
       "3           None        107            119                 None         None   \n",
       "4           None        116            129                 None         None   \n",
       "5           None         98            109                 None         None   \n",
       "6           None         89           None                 None         None   \n",
       "7           None        119           None                 None         None   \n",
       "8           None        149           None                 None         None   \n",
       "\n",
       "  Location grade Extra Data  \n",
       "0           None       None  \n",
       "1           None       None  \n",
       "2           None       None  \n",
       "3           None       None  \n",
       "4           None       None  \n",
       "5           None       None  \n",
       "6           None       None  \n",
       "7           None       None  \n",
       "8           None       None  "
      ]
     },
     "execution_count": 10,
     "metadata": {},
     "output_type": "execute_result"
    }
   ],
   "source": [
    "expedia_df"
   ]
  },
  {
   "cell_type": "code",
   "execution_count": 59,
   "id": "5487eb15",
   "metadata": {},
   "outputs": [
    {
     "data": {
      "text/plain": [
       "18"
      ]
     },
     "execution_count": 59,
     "metadata": {},
     "output_type": "execute_result"
    }
   ],
   "source": [
    "len(expedia_df)"
   ]
  },
  {
   "cell_type": "code",
   "execution_count": 51,
   "id": "0aa6711f",
   "metadata": {},
   "outputs": [
    {
     "name": "stdout",
     "output_type": "stream",
     "text": [
      "0\n"
     ]
    }
   ],
   "source": [
    "path ={'roy' :'C:\\Windows\\chromdriver.exe' , 'yarin': r\"C:\\Users\\yarin\\chromedriver.exe\", 'yair':'C:\\Windows\\chromdriver.exe' }\n",
    "driver = webdriver.Chrome(path['yarin'])\n",
    "city = \"New%20York%20%28and%20vicinity%29%2C%20New%20York%2C%20United%20States%20of%20America\"\n",
    "city_latlong = 'latLong=40.75668%2C-73.98647'\n",
    "city_region_id = '178293'\n",
    "numOfAdults=2\n",
    "numOfChild=0\n",
    "numOfRooms=1\n",
    "checking_year = 2023\n",
    "checking_month = 3\n",
    "checking_monthday = 5\n",
    "checkout_year= 2023\n",
    "checkout_month= 3\n",
    "checkout_monthday= 8\n",
    "url = f\"https://www.expedia.com/Hotel-Search?adults={numOfAdults}&d1={comb[0]}&d2={comb[1]}&destination={city}&endDate={comb[1]}&latLong={city_latlong}&regionId={city_region_id}&rooms={numOfRooms}&semdtl=&sort=RECOMMENDED&startDate={comb[0]}&theme=&useRewards=false&userIntent=\"\n",
    "driver.get(url)\n",
    "driver.execute_script(\"window.scrollTo(0, document.body.scrollHeight);\")\n",
    "\n",
    "\n",
    "time.sleep(2) \n",
    "button=driver.find_element(by =By.CSS_SELECTOR,value =f'[data-stid=\"show-more-results\"]')\n",
    "button.click()\n",
    "time.sleep(2) \n",
    "\n",
    "\n",
    "text_boxes_list = driver.find_elements(by= By.CLASS_NAME , value=\"uitk-card uitk-card-roundcorner-all uitk-card-has-primary-theme\")\n",
    "\n",
    "print(len(text_boxes_list))"
   ]
  },
  {
   "cell_type": "code",
   "execution_count": 41,
   "id": "19f519db",
   "metadata": {},
   "outputs": [
    {
     "name": "stdout",
     "output_type": "stream",
     "text": [
      "<selenium.webdriver.remote.webelement.WebElement (session=\"3a18be3f4be38b9cad3a909c45939626\", element=\"e0888c2c-702f-49a9-b9fd-5b7396cdf32c\")>\n",
      "error\n"
     ]
    },
    {
     "ename": "NameError",
     "evalue": "name 'name' is not defined",
     "output_type": "error",
     "traceback": [
      "\u001b[1;31m---------------------------------------------------------------------------\u001b[0m",
      "\u001b[1;31mNameError\u001b[0m                                 Traceback (most recent call last)",
      "\u001b[1;32m~\\AppData\\Local\\Temp\\ipykernel_30700\\101061801.py\u001b[0m in \u001b[0;36m<module>\u001b[1;34m\u001b[0m\n\u001b[0;32m     23\u001b[0m      \u001b[0mprint\u001b[0m\u001b[1;33m(\u001b[0m\u001b[1;34m'error'\u001b[0m\u001b[1;33m)\u001b[0m\u001b[1;33m\u001b[0m\u001b[1;33m\u001b[0m\u001b[0m\n\u001b[0;32m     24\u001b[0m \u001b[1;33m\u001b[0m\u001b[0m\n\u001b[1;32m---> 25\u001b[1;33m \u001b[0mprint\u001b[0m\u001b[1;33m(\u001b[0m\u001b[0mname\u001b[0m\u001b[1;33m)\u001b[0m\u001b[1;33m\u001b[0m\u001b[1;33m\u001b[0m\u001b[0m\n\u001b[0m",
      "\u001b[1;31mNameError\u001b[0m: name 'name' is not defined"
     ]
    }
   ],
   "source": [
    "t_box = text_boxes_list[0]\n",
    "hotel = {'Snapshot' : None ,'Index':None,'Hotel Name':None,'TTT':None,'LOS':None ,\"Grade\":None,\n",
    "                \"Num of Reviews\":None,\"Curr Price\":None,\"Original Price\":None,\"Distance from center\":None,\n",
    "                \"Type of room\":None,\"Location grade\":None ,\"Extra Data\":None}\n",
    "print(t_box)\n",
    "try:\n",
    "    \n",
    "    \n",
    "    name = t_box.find_element(by= By.CLASS_NAME , value=\"uitk-card-content-section uitk-card-content-section-padded uitk-layout-grid-item uitk-layout-grid-item-has-column-start-by-medium\").text\n",
    "    '''score = t_box.find_element(By.CLASS_NAME, 'uitk-spacing-padding-inlineend-half').text\n",
    "    price = t_box.find_element(By.CSS_SELECTOR, \"div[data-test-id='price-summary-message-line']\").text.split('$')\n",
    "    \n",
    "    hotel['Snapshot'] = Snapshot_date\n",
    "    hotel['Hotel Name'] = name\n",
    "    hotel['TTT'] = (checking_date_type - Snapshot_date).days\n",
    "    hotel['LOS'] = (checkout_date_type - checking_date_type).days\n",
    "    hotel['Grade'] = score \n",
    "    hotel['Curr Price'] = price[-1]\n",
    "    if len(price) > 3:\n",
    "        hotel['Original Price'] = price[1].split('\\n')[0]'''\n",
    "\n",
    "except:\n",
    "     print('error')\n",
    "     \n",
    "print(name)"
   ]
  },
  {
   "cell_type": "code",
   "execution_count": 101,
   "id": "9126df22",
   "metadata": {},
   "outputs": [
    {
     "name": "stdout",
     "output_type": "stream",
     "text": [
      "20\n"
     ]
    }
   ],
   "source": [
    "path ={'roy' :'C:\\Windows\\chromdriver.exe' , 'yarin': r\"C:\\Users\\yarin\\chromedriver.exe\", 'yair':'C:\\Windows\\chromdriver.exe' }\n",
    "driver = webdriver.Chrome(path['yarin'])\n",
    "city = \"New%20York%20%28and%20vicinity%29%2C%20New%20York%2C%20United%20States%20of%20America\"\n",
    "city_latlong = 'latLong=40.75668%2C-73.98647'\n",
    "city_region_id = '178293'\n",
    "numOfAdults=2\n",
    "numOfChild=0\n",
    "numOfRooms=1\n",
    "checking_year = 2023\n",
    "checking_month = 3\n",
    "checking_monthday = 5\n",
    "checkout_year= 2023\n",
    "checkout_month= 3\n",
    "checkout_monthday= 8\n",
    "url = f\"https://www.expedia.com/Hotel-Search?adults={numOfAdults}&d1={comb[0]}&d2={comb[1]}&destination={city}&endDate={comb[1]}&latLong={city_latlong}&regionId={city_region_id}&rooms={numOfRooms}&semdtl=&sort=RECOMMENDED&startDate={comb[0]}&theme=&useRewards=false&userIntent=\"\n",
    "driver.get(url)\n",
    "\n",
    "\n",
    "\n",
    "text_boxes_list = driver.find_elements(By.XPATH , \"//div[@class = 'uitk-spacing uitk-spacing-margin-blockstart-three']\")\n",
    "\n",
    "\n",
    "print(len(text_boxes_list))"
   ]
  },
  {
   "cell_type": "code",
   "execution_count": 144,
   "id": "2517064f",
   "metadata": {},
   "outputs": [],
   "source": [
    "# extract values from card:\n",
    "\n",
    "name  = t_box.find_element(By.XPATH, \"//div[@class = 'uitk-spacing uitk-spacing-padding-blockend-three uitk-layout-flex-item']\").text.split('\\n')[0]\n",
    "grade = t_box.find_element(By.XPATH, \"//span[@class = 'uitk-spacing uitk-spacing-padding-inlineend-half uitk-layout-flex-item']\").text\n",
    "reviews = t_box.find_element(By.XPATH, '//*[@id=\"app-layer-base\"]/div[1]/main/div/div/div/div/div[2]/section[2]/div/div[2]/div/div[2]/div[1]/div[1]/div[2]/div/div/div[2]/div/div[2]/div[1]/div/div/div/div/span[4]/span').text.split('(')[1].split(' ')[0]\n",
    "curr_price = t_box.find_element(By.XPATH, '//*[@id=\"app-layer-base\"]/div[1]/main/div/div/div/div/div[2]/section[2]/div/div[2]/div/div[2]/div[1]/div[1]/div[2]/div/div/div[2]/div/div[2]/div[2]/div/div[1]/div/div').text.split(' ')[-1]\n",
    "original_price = t_box.find_element(By.XPATH, \"//div[@class = 'uitk-text uitk-type-300 uitk-text-default-theme is-visually-hidden']\").text.split(' ')[-1]"
   ]
  },
  {
   "cell_type": "code",
   "execution_count": 127,
   "id": "89a8f63d",
   "metadata": {},
   "outputs": [
    {
     "data": {
      "text/plain": [
       "[]"
      ]
     },
     "execution_count": 127,
     "metadata": {},
     "output_type": "execute_result"
    }
   ],
   "source": [
    "driver.find_elements(By.XPATH , \"//div[@class = 'uitk-spacing uitk-spacing-padding-inlineend-one uitk-layout-flex-item']\")"
   ]
  },
  {
   "cell_type": "code",
   "execution_count": null,
   "id": "c03a9da8",
   "metadata": {},
   "outputs": [],
   "source": [
    "//*[@id=\"app-layer-base\"]/div[1]/main/div/div/div/div/div[2]/section[2]/div/div[2]/div/div[2]/div[1]/div[1]/div[2]"
   ]
  },
  {
   "cell_type": "code",
   "execution_count": null,
   "id": "00d815c1",
   "metadata": {},
   "outputs": [],
   "source": [
    "//*[@id=\"app-layer-base\"]/div[1]/main/div/div/div/div/div[2]/section[2]/div/div[2]/div/div[2]/div[1]/div[1]/div[4]"
   ]
  }
 ],
 "metadata": {
  "kernelspec": {
   "display_name": "base",
   "language": "python",
   "name": "python3"
  },
  "language_info": {
   "codemirror_mode": {
    "name": "ipython",
    "version": 3
   },
   "file_extension": ".py",
   "mimetype": "text/x-python",
   "name": "python",
   "nbconvert_exporter": "python",
   "pygments_lexer": "ipython3",
   "version": "3.9.15"
  },
  "vscode": {
   "interpreter": {
    "hash": "1db614e67fd438712a01e1581f8f628c3a9adb3105580a2c65d9d58ef8ff4428"
   }
  }
 },
 "nbformat": 4,
 "nbformat_minor": 5
}
