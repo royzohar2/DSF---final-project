{
 "cells": [
  {
   "cell_type": "code",
   "execution_count": null,
   "id": "3f7afcce",
   "metadata": {},
   "outputs": [],
   "source": [
    "import pandas as pd\n",
    "from selenium import webdriver\n",
    "from selenium.webdriver.common.keys import Keys\n",
    "from selenium.webdriver.common.by import By\n",
    "\n",
    "from datetime import datetime, timedelta\n",
    "import time\n",
    "\n",
    "\n",
    "import warnings\n",
    "warnings.filterwarnings('ignore')"
   ]
  },
  {
   "cell_type": "code",
   "execution_count": null,
   "id": "706ff59f",
   "metadata": {},
   "outputs": [],
   "source": [
    "def scroll(driver):\n",
    "    driver.maximize_window()\n",
    "    time.sleep(3)\n",
    "    time_to_wait = 20 \n",
    "    start = time.time()\n",
    "    while True:\n",
    "        driver.execute_script('scrollBy(0,400)')\n",
    "        time.sleep(0.5)\n",
    "        if start + time_to_wait < time.time():\n",
    "            break\n",
    "        \n",
    "    try:\n",
    "        button=driver.find_element(by =By.CSS_SELECTOR,value =f'[data-stid=\"show-more-results\"]')\n",
    "        button.click()\n",
    "        time.sleep(3)\n",
    "    except:\n",
    "        text_box_list = driver.find_elements(by = By.XPATH , value='.//*[@class=\"uitk-spacing uitk-spacing-margin-blockstart-three\"]')\n",
    "        return text_box_list\n",
    "\n",
    "    text_box_list = driver.find_elements(by = By.XPATH , value='.//*[@class=\"uitk-spacing uitk-spacing-margin-blockstart-three\"]')\n",
    "    return text_box_list"
   ]
  },
  {
   "cell_type": "code",
   "execution_count": null,
   "id": "7abca9d1",
   "metadata": {},
   "outputs": [],
   "source": [
    "def single_search(url, driver, Snapshot_date, checking_date_type, checkout_date_type):\n",
    "    \n",
    "\n",
    "    hotels = []\n",
    "    index = 1\n",
    "    driver.get(url)  \n",
    "    text_boxes_list = scroll(driver)\n",
    "    print(len(text_boxes_list))\n",
    "    for t_box in text_boxes_list:\n",
    "        try:\n",
    "            hotel = {'Snapshot' : None ,'Index':None,'Hotel Name':None,'TTT':None,'LOS':None ,\"Grade\":None,\n",
    "                     \"Num of Reviews\":None,\"Curr Price\":None,\"Original Price\":None,\"Distance from center\":None,\n",
    "                     \"Type of room\":None,\"Location grade\":None ,\"Extra Data\":None}\n",
    "            \n",
    "            name = t_box.find_element(by= By.CLASS_NAME , value=\"uitk-heading\").text\n",
    "            score = t_box.find_element(By.CLASS_NAME, 'uitk-spacing-padding-inlineend-half').text\n",
    "            price = t_box.find_element(By.CSS_SELECTOR, \"div[data-test-id='price-summary-message-line']\").text.split('$')\n",
    "          \n",
    "            hotel['Snapshot'] = Snapshot_date\n",
    "            hotel['Index'] = index\n",
    "            hotel['Hotel Name'] = name\n",
    "            hotel['TTT'] = (checking_date_type - Snapshot_date).days\n",
    "            hotel['LOS'] = (checkout_date_type - checking_date_type).days\n",
    "            hotel['Grade'] = score \n",
    "            hotel['Curr Price'] = price[-1]\n",
    "            if len(price) > 3:\n",
    "                hotel['Original Price'] = price[1].split('\\n')[0]\n",
    "            hotels.append(hotel)\n",
    "            \n",
    "            index = index + 1\n",
    "        except:\n",
    "             print('error')\n",
    "    \n",
    "    return pd.DataFrame.from_dict(hotels)"
   ]
  },
  {
   "cell_type": "code",
   "execution_count": null,
   "id": "67562e8f",
   "metadata": {},
   "outputs": [],
   "source": [
    "#Allows us to run on different computers without a problem\n",
    "\n",
    "path ={'roy' :'C:\\Windows\\chromdriver.exe' , 'yarin': r\"C:\\Users\\yarin\\chromedriver.exe\", 'yair':'C:\\Windows\\chromdriver.exe' }\n",
    "driver = webdriver.Chrome(path['roy'])"
   ]
  },
  {
   "cell_type": "code",
   "execution_count": null,
   "id": "d298b719",
   "metadata": {},
   "outputs": [],
   "source": [
    "# Get today's date\n",
    "now = datetime.now()\n",
    "Snapshot_date =now\n",
    "# Get end date 35 days from now\n",
    "end_date = now + timedelta(days=35)\n",
    "\n",
    "# Create a list of all dates between today and end date\n",
    "date_list = []\n",
    "while now <= end_date:\n",
    "    date_list.append(now.strftime('%Y-%m-%d'))\n",
    "    now += timedelta(days=1)\n",
    "\n",
    "\n",
    "#Creates a list whose every member is a list of checking and checkout time\n",
    "\n",
    "combinations_list =[]\n",
    "for i in range(1,len(date_list)-5):\n",
    "    for j in range(1,6):\n",
    "        combinations = [date_list[i],date_list[i+j]]\n",
    "        combinations_list.append(combinations)\n",
    "\n",
    "print(combinations_list , len(combinations_list)) "
   ]
  },
  {
   "cell_type": "code",
   "execution_count": null,
   "id": "6792d1e7",
   "metadata": {},
   "outputs": [],
   "source": [
    "#chack how much hotels we can collect\n",
    "'''\n",
    "city = \"New%20York%20%28and%20vicinity%29%2C%20New%20York%2C%20United%20States%20of%20America\"\n",
    "city_latlong = 'latLong=40.75668%2C-73.98647'\n",
    "city_region_id = '178293'\n",
    "numOfAdults=2\n",
    "numOfChild=0\n",
    "numOfRooms=1\n",
    "LIST__ = []\n",
    "X= 0\n",
    "for comb in combinations_list:\n",
    "    if X==15:\n",
    "        break\n",
    "    X =X +1\n",
    "    checking_date_type = datetime.strptime(comb[0], '%Y-%m-%d')\n",
    "    checkout_date_type = datetime.strptime(comb[1], '%Y-%m-%d')\n",
    "    checking_date = comb[0].split('-')\n",
    "    checkout_date = comb[1].split('-')\n",
    "    url = f\"https://www.expedia.com/Hotel-Search?adults={numOfAdults}&d1={comb[0]}&d2={comb[1]}&destination={city}&endDate={comb[1]}&latLong={city_latlong}&regionId={city_region_id}&rooms={numOfRooms}&semdtl=&sort=RECOMMENDED&startDate={comb[0]}&theme=&useRewards=false&userIntent=\"\n",
    "    driver.get(url)\n",
    "    LIST__.append(len(scroll(driver)))\n",
    "    \n",
    "\n",
    "print(LIST__)'''"
   ]
  },
  {
   "cell_type": "code",
   "execution_count": null,
   "id": "e6632a50",
   "metadata": {},
   "outputs": [],
   "source": [
    "# for dev\n",
    "combinations_list = [combinations_list[0]]\n",
    "# END - for dev\n",
    "\n",
    "\n",
    "\n",
    "city = \"New%20York%20%28and%20vicinity%29%2C%20New%20York%2C%20United%20States%20of%20America\"\n",
    "city_latlong = 'latLong=40.75668%2C-73.98647'\n",
    "city_region_id = '178293'\n",
    "numOfAdults=2\n",
    "numOfChild=0\n",
    "numOfRooms=1\n",
    "expedia_df = pd.DataFrame(columns=['Snapshot','Index','Hotel Name','TTT' ,'LOS' ,\"Grade\",\"Num of Reviews\",\"Curr Price\",\"Original Price\",\n",
    "                                   \"Distance from center\",\"Type of room\",\"Location grade\", \"Extra Data\"])\n",
    "for comb in combinations_list:\n",
    "    checking_date_type = datetime.strptime(comb[0], '%Y-%m-%d')\n",
    "    checkout_date_type = datetime.strptime(comb[1], '%Y-%m-%d')\n",
    "    checking_date = comb[0].split('-')\n",
    "    checkout_date = comb[1].split('-')\n",
    "    url = f\"https://www.expedia.com/Hotel-Search?adults={numOfAdults}&d1={comb[0]}&d2={comb[1]}&destination={city}&endDate={comb[1]}&latLong={city_latlong}&regionId={city_region_id}&rooms={numOfRooms}&semdtl=&sort=RECOMMENDED&startDate={comb[0]}&theme=&useRewards=false&userIntent=\"\n",
    "    single_search_df  = single_search(url, driver , Snapshot_date, checking_date_type, checkout_date_type)\n",
    "    expedia_df = pd.concat([expedia_df, single_search_df])\n",
    "    print(single_search_df)\n",
    "#driver.quit()"
   ]
  },
  {
   "cell_type": "code",
   "execution_count": null,
   "id": "bbc39084",
   "metadata": {},
   "outputs": [],
   "source": [
    "expedia_df"
   ]
  },
  {
   "cell_type": "code",
   "execution_count": null,
   "id": "5487eb15",
   "metadata": {},
   "outputs": [],
   "source": [
    "len(expedia_df)"
   ]
  },
  {
   "attachments": {},
   "cell_type": "markdown",
   "id": "35169ff8",
   "metadata": {},
   "source": [
    "--------------------------------------------------------------------------------------------------------------------------------------------"
   ]
  },
  {
   "attachments": {},
   "cell_type": "markdown",
   "id": "165a2de9",
   "metadata": {},
   "source": [
    "TRY HERE:\n"
   ]
  },
  {
   "cell_type": "code",
   "execution_count": null,
   "id": "9126df22",
   "metadata": {},
   "outputs": [],
   "source": [
    "path ={'roy' :'C:\\Windows\\chromdriver.exe' , 'yarin': r\"C:\\Users\\yarin\\chromedriver.exe\", 'yair':'C:\\Windows\\chromdriver.exe' }\n",
    "driver = webdriver.Chrome(path['roy'])\n",
    "city = \"New%20York%20%28and%20vicinity%29%2C%20New%20York%2C%20United%20States%20of%20America\"\n",
    "city_latlong = 'latLong=40.75668%2C-73.98647'\n",
    "city_region_id = '178293'\n",
    "numOfAdults=2\n",
    "numOfChild=0\n",
    "numOfRooms=1\n",
    "checking_year = 2023\n",
    "checking_month = 3\n",
    "checking_monthday = 5\n",
    "checkout_year= 2023\n",
    "checkout_month= 3\n",
    "checkout_monthday= 8\n",
    "comb = ['2023-03-10','2023-03-12']\n",
    "url = f\"https://www.expedia.com/Hotel-Search?adults={numOfAdults}&d1={comb[0]}&d2={comb[1]}&destination={city}&endDate={comb[1]}&latLong={city_latlong}&regionId={city_region_id}&rooms={numOfRooms}&semdtl=&sort=RECOMMENDED&startDate={comb[0]}&theme=&useRewards=false&userIntent=\"\n",
    "driver.get(url)\n",
    "\n",
    "\n",
    "\n",
    "text_boxes_list = scroll(driver)\n",
    "\n",
    "\n",
    "print(len(text_boxes_list))"
   ]
  },
  {
   "cell_type": "code",
   "execution_count": null,
   "id": "2517064f",
   "metadata": {},
   "outputs": [],
   "source": [
    "\n",
    "# extract values from card:\n",
    "x=0\n",
    "for t_box in text_boxes_list:\n",
    " \n",
    "    try:\n",
    "        name = t_box.find_element(by= By.CLASS_NAME , value=\"uitk-heading\").text\n",
    "        score = t_box.find_element(By.CLASS_NAME, 'uitk-spacing-padding-inlineend-half').text\n",
    "        price = t_box.find_element(By.CSS_SELECTOR, \"div[data-test-id='price-summary-message-line']\").text.split('$')\n",
    "        curr_price = price[-1]\n",
    "        if len(price) > 3:\n",
    "            original_price = price[1].split('\\n')[0]\n",
    "        else:\n",
    "            original_price =curr_price\n",
    "       \n",
    "        #extra = t_box.find_element(By.CLASS_NAME, value=\"uitk-layout-flex-item\").text\n",
    "        #reviews = t_box.find_element(By.CLASS_NAME, value=\"uitk-layout-flex-item\").text\n",
    "        print(name , \"  \",score,\"  \" , \"  \", reviews , \"  \"  , curr_price , \"  \",original_price)\n",
    "    except:\n",
    "        print(\"errror\")"
   ]
  }
 ],
 "metadata": {
  "kernelspec": {
   "display_name": "base",
   "language": "python",
   "name": "python3"
  },
  "language_info": {
   "codemirror_mode": {
    "name": "ipython",
    "version": 3
   },
   "file_extension": ".py",
   "mimetype": "text/x-python",
   "name": "python",
   "nbconvert_exporter": "python",
   "pygments_lexer": "ipython3",
   "version": "3.9.13"
  },
  "vscode": {
   "interpreter": {
    "hash": "ad2bdc8ecc057115af97d19610ffacc2b4e99fae6737bb82f5d7fb13d2f2c186"
   }
  }
 },
 "nbformat": 4,
 "nbformat_minor": 5
}
