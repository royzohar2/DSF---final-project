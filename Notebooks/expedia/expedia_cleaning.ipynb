{
 "cells": [
  {
   "cell_type": "code",
   "execution_count": 238,
   "metadata": {},
   "outputs": [],
   "source": [
    "import pandas as pd \n",
    "from datetime import datetime\n",
    "from forex_python.converter import CurrencyRates\n",
    "import re\n",
    "import random\n",
    "import matplotlib.pyplot as plt"
   ]
  },
  {
   "cell_type": "code",
   "execution_count": 239,
   "metadata": {},
   "outputs": [
    {
     "name": "stderr",
     "output_type": "stream",
     "text": [
      "C:\\Users\\yarin\\AppData\\Local\\Temp\\ipykernel_5148\\1586826330.py:1: DtypeWarning: Columns (13,14,16) have mixed types. Specify dtype option on import or set low_memory=False.\n",
      "  Expedia_hotels = pd.read_csv('Expedia_hotels.csv')\n"
     ]
    }
   ],
   "source": [
    "Expedia_hotels = pd.read_csv('Expedia_hotels.csv')"
   ]
  },
  {
   "cell_type": "code",
   "execution_count": 240,
   "metadata": {},
   "outputs": [],
   "source": [
    "df = Expedia_hotels.copy()"
   ]
  },
  {
   "cell_type": "code",
   "execution_count": 241,
   "metadata": {},
   "outputs": [
    {
     "name": "stdout",
     "output_type": "stream",
     "text": [
      "<class 'pandas.core.frame.DataFrame'>\n",
      "RangeIndex: 36000 entries, 0 to 35999\n",
      "Data columns (total 17 columns):\n",
      " #   Column                  Non-Null Count  Dtype  \n",
      "---  ------                  --------------  -----  \n",
      " 0   Snapshot                36000 non-null  object \n",
      " 1   Index                   36000 non-null  int64  \n",
      " 2   Hotel Name              35980 non-null  object \n",
      " 3   TTT                     35980 non-null  float64\n",
      " 4   LOS                     35980 non-null  float64\n",
      " 5   Grade                   35468 non-null  float64\n",
      " 6   Num of Reviews          35468 non-null  object \n",
      " 7   Curr Price              35980 non-null  object \n",
      " 8   Original Price          15342 non-null  object \n",
      " 9   Percentage of discount  35980 non-null  float64\n",
      " 10  Distance from center    35980 non-null  float64\n",
      " 11  Type of room            35980 non-null  float64\n",
      " 12  Location grade          35980 non-null  float64\n",
      " 13  Is refundable           35980 non-null  object \n",
      " 14  Late payment            35980 non-null  object \n",
      " 15  Extras included         6804 non-null   object \n",
      " 16  Option Member           35980 non-null  object \n",
      "dtypes: float64(7), int64(1), object(9)\n",
      "memory usage: 4.7+ MB\n"
     ]
    }
   ],
   "source": [
    "df.info()"
   ]
  },
  {
   "cell_type": "code",
   "execution_count": 242,
   "metadata": {},
   "outputs": [],
   "source": [
    "#taking only the date form the timestamp\n",
    "df['Snapshot'] = df['Snapshot'].apply(lambda x: datetime.strptime(x, '%Y-%m-%d %H:%M:%S.%f').date())\n",
    "#keep the firt 100 hotels in each search\n",
    "df = df.loc[df['Index'] < 100]\n",
    "\n",
    "#increase the index in one to avoid the 0 index\n",
    "df['Index'] = df['Index'] + 1\n",
    "\n",
    "#convert from float to int\n",
    "df['TTT'] = df['TTT'].astype('int64')\n",
    "df['LOS'] = df['LOS'].astype('int64')\n"
   ]
  },
  {
   "cell_type": "code",
   "execution_count": 243,
   "metadata": {},
   "outputs": [
    {
     "data": {
      "text/plain": [
       "Latisha luxury place                148\n",
       "Moxy Brooklyn Willamsburg           115\n",
       "The FIDI Hotel                      111\n",
       "The Ritz-Carlton New York, NoMad    107\n",
       "The Flat NYC                         23\n",
       "Latisha house                         2\n",
       "Name: Hotel Name, dtype: int64"
      ]
     },
     "execution_count": 243,
     "metadata": {},
     "output_type": "execute_result"
    }
   ],
   "source": [
    "#we can see that we have 6 hotels with no grade, we can check if they have reviews\n",
    "df.loc[pd.isnull(df['Grade'])]['Hotel Name'].value_counts()"
   ]
  },
  {
   "cell_type": "code",
   "execution_count": 244,
   "metadata": {},
   "outputs": [
    {
     "data": {
      "text/plain": [
       "Latisha luxury place                148\n",
       "Moxy Brooklyn Willamsburg           115\n",
       "The FIDI Hotel                      111\n",
       "The Ritz-Carlton New York, NoMad    107\n",
       "The Flat NYC                         23\n",
       "Latisha house                         2\n",
       "Name: Hotel Name, dtype: int64"
      ]
     },
     "execution_count": 244,
     "metadata": {},
     "output_type": "execute_result"
    }
   ],
   "source": [
    "#we see that the hotels without grade have no reviews\n",
    "df.loc[pd.isnull(df['Num of Reviews'])]['Hotel Name'].value_counts()"
   ]
  },
  {
   "cell_type": "code",
   "execution_count": 245,
   "metadata": {},
   "outputs": [],
   "source": [
    "#keep only the digits\n",
    "df['Num of Reviews'] = df['Num of Reviews'].apply(lambda x: int(re.sub(\"[^0-9]\", \"\", x)) if not pd.isnull(x) else x)"
   ]
  },
  {
   "cell_type": "code",
   "execution_count": 246,
   "metadata": {},
   "outputs": [
    {
     "data": {
      "text/plain": [
       "(8, 17)"
      ]
     },
     "execution_count": 246,
     "metadata": {},
     "output_type": "execute_result"
    }
   ],
   "source": [
    "#check how much hotels have only one review, that can tell us if the hotels without reviews are likely to have zero reviews\n",
    "df.loc[df['Num of Reviews'] == 1].shape"
   ]
  },
  {
   "cell_type": "code",
   "execution_count": 247,
   "metadata": {},
   "outputs": [],
   "source": [
    "df['Num of Reviews'] = df['Num of Reviews'].fillna(0)"
   ]
  },
  {
   "cell_type": "code",
   "execution_count": 248,
   "metadata": {},
   "outputs": [
    {
     "data": {
      "text/plain": [
       "count    29494.000000\n",
       "mean         8.404733\n",
       "std          0.645410\n",
       "min          5.600000\n",
       "25%          8.000000\n",
       "50%          8.600000\n",
       "75%          8.800000\n",
       "max         10.000000\n",
       "Name: Grade, dtype: float64"
      ]
     },
     "execution_count": 248,
     "metadata": {},
     "output_type": "execute_result"
    }
   ],
   "source": [
    "df['Grade'].describe()"
   ]
  },
  {
   "cell_type": "code",
   "execution_count": 249,
   "metadata": {},
   "outputs": [
    {
     "data": {
      "text/plain": [
       "(array([ 151.,   64.,  508., 1308., 1539., 7276., 7958., 7747., 2612.,\n",
       "         331.]),\n",
       " array([ 5.6 ,  6.04,  6.48,  6.92,  7.36,  7.8 ,  8.24,  8.68,  9.12,\n",
       "         9.56, 10.  ]),\n",
       " <BarContainer object of 10 artists>)"
      ]
     },
     "execution_count": 249,
     "metadata": {},
     "output_type": "execute_result"
    },
    {
     "data": {
      "image/png": "[encoded data removed]",
      "text/plain": [
       "<Figure size 640x480 with 1 Axes>"
      ]
     },
     "metadata": {},
     "output_type": "display_data"
    }
   ],
   "source": [
    "#lets see the histogram of the grades\n",
    "plt.hist(df['Grade'])"
   ]
  },
  {
   "cell_type": "code",
   "execution_count": 250,
   "metadata": {},
   "outputs": [],
   "source": [
    "#we choose to fill the missing values with a random number between 5 and 6 - whiche means that the hotel has a low grade\n",
    "df['Grade'] = df['Grade'].fillna(round(random.uniform(5, 6),1))"
   ]
  },
  {
   "cell_type": "code",
   "execution_count": 251,
   "metadata": {},
   "outputs": [],
   "source": [
    "df['Curr Price'] = df['Curr Price'].apply(lambda x: x.split('€')[1])"
   ]
  },
  {
   "cell_type": "code",
   "execution_count": 252,
   "metadata": {},
   "outputs": [],
   "source": [
    "df['Original Price'] = df['Original Price'].apply(lambda x: x.split('€')[1] if not pd.isnull(x) else x)"
   ]
  },
  {
   "cell_type": "code",
   "execution_count": 253,
   "metadata": {},
   "outputs": [
    {
     "data": {
      "text/plain": [
       "0          360\n",
       "1          NaN\n",
       "2          493\n",
       "3          NaN\n",
       "4          NaN\n",
       "         ...  \n",
       "35975      NaN\n",
       "35976    1,958\n",
       "35977    2,150\n",
       "35978      NaN\n",
       "35979      NaN\n",
       "Name: Original Price, Length: 30000, dtype: object"
      ]
     },
     "execution_count": 253,
     "metadata": {},
     "output_type": "execute_result"
    }
   ],
   "source": [
    "df['Original Price']"
   ]
  },
  {
   "cell_type": "code",
   "execution_count": 254,
   "metadata": {},
   "outputs": [
    {
     "data": {
      "text/plain": [
       "0          360\n",
       "1          217\n",
       "2          493\n",
       "3          328\n",
       "4          428\n",
       "         ...  \n",
       "35975    1,656\n",
       "35976    1,958\n",
       "35977    2,150\n",
       "35978    1,926\n",
       "35979    1,461\n",
       "Name: Original Price, Length: 30000, dtype: object"
      ]
     },
     "execution_count": 254,
     "metadata": {},
     "output_type": "execute_result"
    }
   ],
   "source": [
    "#fill the original price with the current price if it is missing\n",
    "df['Original Price'] = df.apply(lambda x: x['Curr Price']  if pd.isnull(x['Original Price']) else x['Original Price'], axis = 1)\n",
    "df['Original Price']"
   ]
  },
  {
   "cell_type": "code",
   "execution_count": 255,
   "metadata": {},
   "outputs": [],
   "source": [
    "#convert the prices to int\n",
    "df['Original Price'] = df['Original Price'].apply(lambda x: int(x.replace(',','')))\n",
    "df['Curr Price'] = df['Curr Price'].apply(lambda x: int(x.replace(',','')))"
   ]
  },
  {
   "cell_type": "code",
   "execution_count": 256,
   "metadata": {},
   "outputs": [
    {
     "data": {
      "text/plain": [
       "0         360\n",
       "1         217\n",
       "2         493\n",
       "3         328\n",
       "4         428\n",
       "         ... \n",
       "35975    1656\n",
       "35976    1958\n",
       "35977    2150\n",
       "35978    1926\n",
       "35979    1461\n",
       "Name: Original Price, Length: 30000, dtype: int64"
      ]
     },
     "execution_count": 256,
     "metadata": {},
     "output_type": "execute_result"
    }
   ],
   "source": [
    "df['Original Price']  "
   ]
  },
  {
   "cell_type": "code",
   "execution_count": 257,
   "metadata": {},
   "outputs": [],
   "source": [
    "#create dictionary with the exchange rate for each date\n",
    "c = CurrencyRates()\n",
    "x = df['Snapshot'].unique()\n",
    "curr_dict = {}\n",
    "for date in x:\n",
    "    curr_dict[date] = c.get_rate('EUR','USD', date) \n",
    "\n"
   ]
  },
  {
   "cell_type": "code",
   "execution_count": 258,
   "metadata": {},
   "outputs": [
    {
     "data": {
      "text/plain": [
       "1.0646"
      ]
     },
     "execution_count": 258,
     "metadata": {},
     "output_type": "execute_result"
    }
   ],
   "source": [
    "curr_dict[df['Snapshot'].loc[0]]"
   ]
  },
  {
   "cell_type": "code",
   "execution_count": 259,
   "metadata": {},
   "outputs": [
    {
     "data": {
      "text/html": [
       "<div>\n",
       "<style scoped>\n",
       "    .dataframe tbody tr th:only-of-type {\n",
       "        vertical-align: middle;\n",
       "    }\n",
       "\n",
       "    .dataframe tbody tr th {\n",
       "        vertical-align: top;\n",
       "    }\n",
       "\n",
       "    .dataframe thead th {\n",
       "        text-align: right;\n",
       "    }\n",
       "</style>\n",
       "<table border=\"1\" class=\"dataframe\">\n",
       "  <thead>\n",
       "    <tr style=\"text-align: right;\">\n",
       "      <th></th>\n",
       "      <th>Original Price</th>\n",
       "      <th>Curr Price</th>\n",
       "    </tr>\n",
       "  </thead>\n",
       "  <tbody>\n",
       "    <tr>\n",
       "      <th>0</th>\n",
       "      <td>360</td>\n",
       "      <td>278</td>\n",
       "    </tr>\n",
       "    <tr>\n",
       "      <th>1</th>\n",
       "      <td>217</td>\n",
       "      <td>217</td>\n",
       "    </tr>\n",
       "    <tr>\n",
       "      <th>2</th>\n",
       "      <td>493</td>\n",
       "      <td>449</td>\n",
       "    </tr>\n",
       "    <tr>\n",
       "      <th>3</th>\n",
       "      <td>328</td>\n",
       "      <td>328</td>\n",
       "    </tr>\n",
       "    <tr>\n",
       "      <th>4</th>\n",
       "      <td>428</td>\n",
       "      <td>428</td>\n",
       "    </tr>\n",
       "    <tr>\n",
       "      <th>...</th>\n",
       "      <td>...</td>\n",
       "      <td>...</td>\n",
       "    </tr>\n",
       "    <tr>\n",
       "      <th>35975</th>\n",
       "      <td>1656</td>\n",
       "      <td>1656</td>\n",
       "    </tr>\n",
       "    <tr>\n",
       "      <th>35976</th>\n",
       "      <td>1958</td>\n",
       "      <td>1647</td>\n",
       "    </tr>\n",
       "    <tr>\n",
       "      <th>35977</th>\n",
       "      <td>2150</td>\n",
       "      <td>1936</td>\n",
       "    </tr>\n",
       "    <tr>\n",
       "      <th>35978</th>\n",
       "      <td>1926</td>\n",
       "      <td>1926</td>\n",
       "    </tr>\n",
       "    <tr>\n",
       "      <th>35979</th>\n",
       "      <td>1461</td>\n",
       "      <td>1461</td>\n",
       "    </tr>\n",
       "  </tbody>\n",
       "</table>\n",
       "<p>30000 rows × 2 columns</p>\n",
       "</div>"
      ],
      "text/plain": [
       "       Original Price  Curr Price\n",
       "0                 360         278\n",
       "1                 217         217\n",
       "2                 493         449\n",
       "3                 328         328\n",
       "4                 428         428\n",
       "...               ...         ...\n",
       "35975            1656        1656\n",
       "35976            1958        1647\n",
       "35977            2150        1936\n",
       "35978            1926        1926\n",
       "35979            1461        1461\n",
       "\n",
       "[30000 rows x 2 columns]"
      ]
     },
     "execution_count": 259,
     "metadata": {},
     "output_type": "execute_result"
    }
   ],
   "source": [
    "df[['Original Price','Curr Price']]"
   ]
  },
  {
   "cell_type": "code",
   "execution_count": 260,
   "metadata": {},
   "outputs": [],
   "source": [
    "#multiply the prices by the exchange rate and divide by the LOS to get price per night\n",
    "df['Original Price'] = df.apply(lambda x: (x['Original Price']*curr_dict[x['Snapshot']])/x['LOS']  , axis = 1)\n",
    "df['Curr Price'] = df.apply(lambda x: (x['Curr Price']*curr_dict[x['Snapshot']])/x['LOS']  , axis = 1)\n"
   ]
  },
  {
   "cell_type": "code",
   "execution_count": 261,
   "metadata": {},
   "outputs": [],
   "source": [
    "df['Original Price'] = df['Original Price'].apply(lambda x: round(x,1))\n",
    "df['Curr Price'] = df['Curr Price'].apply(lambda x: round(x,1))"
   ]
  },
  {
   "cell_type": "code",
   "execution_count": 262,
   "metadata": {},
   "outputs": [
    {
     "data": {
      "text/html": [
       "<div>\n",
       "<style scoped>\n",
       "    .dataframe tbody tr th:only-of-type {\n",
       "        vertical-align: middle;\n",
       "    }\n",
       "\n",
       "    .dataframe tbody tr th {\n",
       "        vertical-align: top;\n",
       "    }\n",
       "\n",
       "    .dataframe thead th {\n",
       "        text-align: right;\n",
       "    }\n",
       "</style>\n",
       "<table border=\"1\" class=\"dataframe\">\n",
       "  <thead>\n",
       "    <tr style=\"text-align: right;\">\n",
       "      <th></th>\n",
       "      <th>Original Price</th>\n",
       "      <th>Curr Price</th>\n",
       "    </tr>\n",
       "  </thead>\n",
       "  <tbody>\n",
       "    <tr>\n",
       "      <th>0</th>\n",
       "      <td>383.3</td>\n",
       "      <td>296.0</td>\n",
       "    </tr>\n",
       "    <tr>\n",
       "      <th>1</th>\n",
       "      <td>231.0</td>\n",
       "      <td>231.0</td>\n",
       "    </tr>\n",
       "    <tr>\n",
       "      <th>2</th>\n",
       "      <td>524.8</td>\n",
       "      <td>478.0</td>\n",
       "    </tr>\n",
       "    <tr>\n",
       "      <th>3</th>\n",
       "      <td>349.2</td>\n",
       "      <td>349.2</td>\n",
       "    </tr>\n",
       "    <tr>\n",
       "      <th>4</th>\n",
       "      <td>455.6</td>\n",
       "      <td>455.6</td>\n",
       "    </tr>\n",
       "    <tr>\n",
       "      <th>...</th>\n",
       "      <td>...</td>\n",
       "      <td>...</td>\n",
       "    </tr>\n",
       "    <tr>\n",
       "      <th>35975</th>\n",
       "      <td>349.3</td>\n",
       "      <td>349.3</td>\n",
       "    </tr>\n",
       "    <tr>\n",
       "      <th>35976</th>\n",
       "      <td>412.9</td>\n",
       "      <td>347.4</td>\n",
       "    </tr>\n",
       "    <tr>\n",
       "      <th>35977</th>\n",
       "      <td>453.4</td>\n",
       "      <td>408.3</td>\n",
       "    </tr>\n",
       "    <tr>\n",
       "      <th>35978</th>\n",
       "      <td>406.2</td>\n",
       "      <td>406.2</td>\n",
       "    </tr>\n",
       "    <tr>\n",
       "      <th>35979</th>\n",
       "      <td>308.1</td>\n",
       "      <td>308.1</td>\n",
       "    </tr>\n",
       "  </tbody>\n",
       "</table>\n",
       "<p>30000 rows × 2 columns</p>\n",
       "</div>"
      ],
      "text/plain": [
       "       Original Price  Curr Price\n",
       "0               383.3       296.0\n",
       "1               231.0       231.0\n",
       "2               524.8       478.0\n",
       "3               349.2       349.2\n",
       "4               455.6       455.6\n",
       "...               ...         ...\n",
       "35975           349.3       349.3\n",
       "35976           412.9       347.4\n",
       "35977           453.4       408.3\n",
       "35978           406.2       406.2\n",
       "35979           308.1       308.1\n",
       "\n",
       "[30000 rows x 2 columns]"
      ]
     },
     "execution_count": 262,
     "metadata": {},
     "output_type": "execute_result"
    }
   ],
   "source": [
    "df[['Original Price','Curr Price']]"
   ]
  },
  {
   "cell_type": "code",
   "execution_count": 263,
   "metadata": {},
   "outputs": [],
   "source": [
    "#drop unrelevant columns\n",
    "df.drop(['Percentage of discount', 'Distance from center', 'Type of room',\n",
    "       'Location grade'], axis = 1, inplace=True)"
   ]
  },
  {
   "cell_type": "code",
   "execution_count": 264,
   "metadata": {},
   "outputs": [],
   "source": [
    "#convert the columns to int\n",
    "df[['Is refundable','Late payment', 'Option Member']] = df[['Is refundable','Late payment', 'Option Member']].astype('int64')"
   ]
  },
  {
   "cell_type": "code",
   "execution_count": 265,
   "metadata": {},
   "outputs": [],
   "source": [
    "df['Extras included'] = df['Extras included'].apply(lambda x: 1 if not pd.isnull(x) else 0)"
   ]
  },
  {
   "cell_type": "code",
   "execution_count": 266,
   "metadata": {},
   "outputs": [
    {
     "data": {
      "text/html": [
       "<div>\n",
       "<style scoped>\n",
       "    .dataframe tbody tr th:only-of-type {\n",
       "        vertical-align: middle;\n",
       "    }\n",
       "\n",
       "    .dataframe tbody tr th {\n",
       "        vertical-align: top;\n",
       "    }\n",
       "\n",
       "    .dataframe thead th {\n",
       "        text-align: right;\n",
       "    }\n",
       "</style>\n",
       "<table border=\"1\" class=\"dataframe\">\n",
       "  <thead>\n",
       "    <tr style=\"text-align: right;\">\n",
       "      <th></th>\n",
       "      <th>Snapshot</th>\n",
       "      <th>Index</th>\n",
       "      <th>Hotel Name</th>\n",
       "      <th>TTT</th>\n",
       "      <th>LOS</th>\n",
       "      <th>Grade</th>\n",
       "      <th>Num of Reviews</th>\n",
       "      <th>Curr Price</th>\n",
       "      <th>Original Price</th>\n",
       "      <th>Is refundable</th>\n",
       "      <th>Late payment</th>\n",
       "      <th>Extras included</th>\n",
       "      <th>Option Member</th>\n",
       "    </tr>\n",
       "  </thead>\n",
       "  <tbody>\n",
       "    <tr>\n",
       "      <th>0</th>\n",
       "      <td>2023-03-06</td>\n",
       "      <td>1</td>\n",
       "      <td>Hotel 32 32</td>\n",
       "      <td>1</td>\n",
       "      <td>1</td>\n",
       "      <td>8.0</td>\n",
       "      <td>1296.0</td>\n",
       "      <td>296.0</td>\n",
       "      <td>383.3</td>\n",
       "      <td>0</td>\n",
       "      <td>0</td>\n",
       "      <td>0</td>\n",
       "      <td>0</td>\n",
       "    </tr>\n",
       "    <tr>\n",
       "      <th>1</th>\n",
       "      <td>2023-03-06</td>\n",
       "      <td>2</td>\n",
       "      <td>Sonesta Simply Suites Jersey City</td>\n",
       "      <td>1</td>\n",
       "      <td>1</td>\n",
       "      <td>8.4</td>\n",
       "      <td>1002.0</td>\n",
       "      <td>231.0</td>\n",
       "      <td>231.0</td>\n",
       "      <td>1</td>\n",
       "      <td>0</td>\n",
       "      <td>0</td>\n",
       "      <td>0</td>\n",
       "    </tr>\n",
       "    <tr>\n",
       "      <th>2</th>\n",
       "      <td>2023-03-06</td>\n",
       "      <td>3</td>\n",
       "      <td>Park Lane New York</td>\n",
       "      <td>1</td>\n",
       "      <td>1</td>\n",
       "      <td>8.8</td>\n",
       "      <td>305.0</td>\n",
       "      <td>478.0</td>\n",
       "      <td>524.8</td>\n",
       "      <td>0</td>\n",
       "      <td>0</td>\n",
       "      <td>0</td>\n",
       "      <td>0</td>\n",
       "    </tr>\n",
       "    <tr>\n",
       "      <th>3</th>\n",
       "      <td>2023-03-06</td>\n",
       "      <td>4</td>\n",
       "      <td>Arlo Midtown</td>\n",
       "      <td>1</td>\n",
       "      <td>1</td>\n",
       "      <td>9.2</td>\n",
       "      <td>3123.0</td>\n",
       "      <td>349.2</td>\n",
       "      <td>349.2</td>\n",
       "      <td>1</td>\n",
       "      <td>0</td>\n",
       "      <td>0</td>\n",
       "      <td>1</td>\n",
       "    </tr>\n",
       "    <tr>\n",
       "      <th>4</th>\n",
       "      <td>2023-03-06</td>\n",
       "      <td>5</td>\n",
       "      <td>PUBLIC, an Ian Schrager hotel</td>\n",
       "      <td>1</td>\n",
       "      <td>1</td>\n",
       "      <td>8.0</td>\n",
       "      <td>1465.0</td>\n",
       "      <td>455.6</td>\n",
       "      <td>455.6</td>\n",
       "      <td>0</td>\n",
       "      <td>0</td>\n",
       "      <td>0</td>\n",
       "      <td>1</td>\n",
       "    </tr>\n",
       "    <tr>\n",
       "      <th>5</th>\n",
       "      <td>2023-03-06</td>\n",
       "      <td>6</td>\n",
       "      <td>Hard Rock Hotel New York</td>\n",
       "      <td>1</td>\n",
       "      <td>1</td>\n",
       "      <td>9.2</td>\n",
       "      <td>716.0</td>\n",
       "      <td>577.0</td>\n",
       "      <td>577.0</td>\n",
       "      <td>1</td>\n",
       "      <td>0</td>\n",
       "      <td>0</td>\n",
       "      <td>1</td>\n",
       "    </tr>\n",
       "    <tr>\n",
       "      <th>6</th>\n",
       "      <td>2023-03-06</td>\n",
       "      <td>7</td>\n",
       "      <td>Hotel Edison Times Square</td>\n",
       "      <td>1</td>\n",
       "      <td>1</td>\n",
       "      <td>7.8</td>\n",
       "      <td>2758.0</td>\n",
       "      <td>272.5</td>\n",
       "      <td>272.5</td>\n",
       "      <td>1</td>\n",
       "      <td>0</td>\n",
       "      <td>1</td>\n",
       "      <td>1</td>\n",
       "    </tr>\n",
       "    <tr>\n",
       "      <th>7</th>\n",
       "      <td>2023-03-06</td>\n",
       "      <td>8</td>\n",
       "      <td>YOTEL New York Times Square</td>\n",
       "      <td>1</td>\n",
       "      <td>1</td>\n",
       "      <td>7.0</td>\n",
       "      <td>1889.0</td>\n",
       "      <td>234.2</td>\n",
       "      <td>255.5</td>\n",
       "      <td>0</td>\n",
       "      <td>0</td>\n",
       "      <td>0</td>\n",
       "      <td>1</td>\n",
       "    </tr>\n",
       "    <tr>\n",
       "      <th>8</th>\n",
       "      <td>2023-03-06</td>\n",
       "      <td>9</td>\n",
       "      <td>Moxy Brooklyn Willamsburg</td>\n",
       "      <td>1</td>\n",
       "      <td>1</td>\n",
       "      <td>5.0</td>\n",
       "      <td>0.0</td>\n",
       "      <td>257.6</td>\n",
       "      <td>257.6</td>\n",
       "      <td>0</td>\n",
       "      <td>0</td>\n",
       "      <td>0</td>\n",
       "      <td>0</td>\n",
       "    </tr>\n",
       "    <tr>\n",
       "      <th>9</th>\n",
       "      <td>2023-03-06</td>\n",
       "      <td>10</td>\n",
       "      <td>New York Marriott Marquis</td>\n",
       "      <td>1</td>\n",
       "      <td>1</td>\n",
       "      <td>9.0</td>\n",
       "      <td>1543.0</td>\n",
       "      <td>572.8</td>\n",
       "      <td>572.8</td>\n",
       "      <td>0</td>\n",
       "      <td>0</td>\n",
       "      <td>0</td>\n",
       "      <td>0</td>\n",
       "    </tr>\n",
       "  </tbody>\n",
       "</table>\n",
       "</div>"
      ],
      "text/plain": [
       "     Snapshot  Index                         Hotel Name  TTT  LOS  Grade  \\\n",
       "0  2023-03-06      1                        Hotel 32 32    1    1    8.0   \n",
       "1  2023-03-06      2  Sonesta Simply Suites Jersey City    1    1    8.4   \n",
       "2  2023-03-06      3                 Park Lane New York    1    1    8.8   \n",
       "3  2023-03-06      4                       Arlo Midtown    1    1    9.2   \n",
       "4  2023-03-06      5      PUBLIC, an Ian Schrager hotel    1    1    8.0   \n",
       "5  2023-03-06      6           Hard Rock Hotel New York    1    1    9.2   \n",
       "6  2023-03-06      7          Hotel Edison Times Square    1    1    7.8   \n",
       "7  2023-03-06      8        YOTEL New York Times Square    1    1    7.0   \n",
       "8  2023-03-06      9          Moxy Brooklyn Willamsburg    1    1    5.0   \n",
       "9  2023-03-06     10          New York Marriott Marquis    1    1    9.0   \n",
       "\n",
       "   Num of Reviews  Curr Price  Original Price  Is refundable  Late payment  \\\n",
       "0          1296.0       296.0           383.3              0             0   \n",
       "1          1002.0       231.0           231.0              1             0   \n",
       "2           305.0       478.0           524.8              0             0   \n",
       "3          3123.0       349.2           349.2              1             0   \n",
       "4          1465.0       455.6           455.6              0             0   \n",
       "5           716.0       577.0           577.0              1             0   \n",
       "6          2758.0       272.5           272.5              1             0   \n",
       "7          1889.0       234.2           255.5              0             0   \n",
       "8             0.0       257.6           257.6              0             0   \n",
       "9          1543.0       572.8           572.8              0             0   \n",
       "\n",
       "   Extras included  Option Member  \n",
       "0                0              0  \n",
       "1                0              0  \n",
       "2                0              0  \n",
       "3                0              1  \n",
       "4                0              1  \n",
       "5                0              1  \n",
       "6                1              1  \n",
       "7                0              1  \n",
       "8                0              0  \n",
       "9                0              0  "
      ]
     },
     "execution_count": 266,
     "metadata": {},
     "output_type": "execute_result"
    }
   ],
   "source": [
    "df.head(10)"
   ]
  },
  {
   "cell_type": "code",
   "execution_count": 267,
   "metadata": {},
   "outputs": [
    {
     "name": "stdout",
     "output_type": "stream",
     "text": [
      "<class 'pandas.core.frame.DataFrame'>\n",
      "Int64Index: 30000 entries, 0 to 35979\n",
      "Data columns (total 13 columns):\n",
      " #   Column           Non-Null Count  Dtype  \n",
      "---  ------           --------------  -----  \n",
      " 0   Snapshot         30000 non-null  object \n",
      " 1   Index            30000 non-null  int64  \n",
      " 2   Hotel Name       30000 non-null  object \n",
      " 3   TTT              30000 non-null  int64  \n",
      " 4   LOS              30000 non-null  int64  \n",
      " 5   Grade            30000 non-null  float64\n",
      " 6   Num of Reviews   30000 non-null  float64\n",
      " 7   Curr Price       30000 non-null  float64\n",
      " 8   Original Price   30000 non-null  float64\n",
      " 9   Is refundable    30000 non-null  int64  \n",
      " 10  Late payment     30000 non-null  int64  \n",
      " 11  Extras included  30000 non-null  int64  \n",
      " 12  Option Member    30000 non-null  int64  \n",
      "dtypes: float64(4), int64(7), object(2)\n",
      "memory usage: 4.2+ MB\n"
     ]
    }
   ],
   "source": [
    "df.info()"
   ]
  },
  {
   "attachments": {},
   "cell_type": "markdown",
   "metadata": {},
   "source": [
    "Exploration + Data preprocessing"
   ]
  },
  {
   "cell_type": "code",
   "execution_count": 270,
   "metadata": {},
   "outputs": [],
   "source": [
    "import seaborn as sns"
   ]
  },
  {
   "cell_type": "code",
   "execution_count": 284,
   "metadata": {},
   "outputs": [
    {
     "data": {
      "image/png": "[encoded data removed]",
      "text/plain": [
       "<Figure size 640x480 with 1 Axes>"
      ]
     },
     "metadata": {},
     "output_type": "display_data"
    }
   ],
   "source": [
    "plt.hist(df['Num of Reviews'])\n",
    "plt.title('Number of reviews')\n",
    "plt.show()"
   ]
  },
  {
   "cell_type": "code",
   "execution_count": 283,
   "metadata": {},
   "outputs": [
    {
     "data": {
      "image/png": "[encoded data removed]",
      "text/plain": [
       "<Figure size 640x480 with 1 Axes>"
      ]
     },
     "metadata": {},
     "output_type": "display_data"
    }
   ],
   "source": [
    "plt.hist(df['Grade'])\n",
    "plt.title('hotel grades')\n",
    "plt.show()"
   ]
  },
  {
   "cell_type": "code",
   "execution_count": 282,
   "metadata": {},
   "outputs": [
    {
     "data": {
      "image/png": "[encoded data removed]",
      "text/plain": [
       "<Figure size 640x480 with 1 Axes>"
      ]
     },
     "metadata": {},
     "output_type": "display_data"
    }
   ],
   "source": [
    "plt.hist(df['Curr Price'])\n",
    "plt.title('Current Price per night')\n",
    "plt.show()"
   ]
  },
  {
   "cell_type": "code",
   "execution_count": 280,
   "metadata": {},
   "outputs": [
    {
     "data": {
      "image/png": "[encoded data removed]",
      "text/plain": [
       "<Figure size 640x480 with 1 Axes>"
      ]
     },
     "metadata": {},
     "output_type": "display_data"
    }
   ],
   "source": [
    "plt.boxplot(df['Curr Price'])\n",
    "plt.title('Boxplot of the current price per night')\n",
    "plt.show()"
   ]
  },
  {
   "attachments": {},
   "cell_type": "markdown",
   "metadata": {},
   "source": [
    "remove outliers with IQR"
   ]
  },
  {
   "cell_type": "code",
   "execution_count": 285,
   "metadata": {},
   "outputs": [
    {
     "data": {
      "image/png": "[encoded data removed]",
      "text/plain": [
       "<Figure size 640x480 with 1 Axes>"
      ]
     },
     "metadata": {},
     "output_type": "display_data"
    }
   ],
   "source": [
    "df_q1=df['Curr Price'].quantile(0.25)\n",
    "df_q3=df['Curr Price'].quantile(0.75)\n",
    "\n",
    "price_IQR = df_q3-df_q1\n",
    "\n",
    "prices_lower_limit = df_q1 - (1.5 * price_IQR)\n",
    "prices_upper_limit = df_q3 + (1.5 * price_IQR)\n",
    "\n",
    "price_filter = df['Curr Price'].apply(lambda x: x > prices_lower_limit and x < prices_upper_limit)\n",
    "\n",
    "filtered_prices = df['Curr Price'][price_filter]\n",
    "\n",
    "plt.boxplot(filtered_prices)\n",
    "plt.show()\n"
   ]
  },
  {
   "cell_type": "code",
   "execution_count": 286,
   "metadata": {},
   "outputs": [
    {
     "data": {
      "text/plain": [
       "count    28075.000000\n",
       "mean       347.789581\n",
       "std        106.631390\n",
       "min         92.800000\n",
       "25%        269.100000\n",
       "50%        337.100000\n",
       "75%        410.400000\n",
       "max        667.500000\n",
       "Name: Curr Price, dtype: float64"
      ]
     },
     "execution_count": 286,
     "metadata": {},
     "output_type": "execute_result"
    }
   ],
   "source": [
    "filtered_prices.describe()"
   ]
  },
  {
   "cell_type": "code",
   "execution_count": 288,
   "metadata": {},
   "outputs": [
    {
     "data": {
      "text/plain": [
       "667.6999999999999"
      ]
     },
     "execution_count": 288,
     "metadata": {},
     "output_type": "execute_result"
    }
   ],
   "source": [
    "prices_upper_limit"
   ]
  },
  {
   "cell_type": "code",
   "execution_count": 291,
   "metadata": {},
   "outputs": [
    {
     "data": {
      "text/plain": [
       "0    24895\n",
       "1     5105\n",
       "Name: Extras included, dtype: int64"
      ]
     },
     "execution_count": 291,
     "metadata": {},
     "output_type": "execute_result"
    }
   ],
   "source": [
    "df['Extras included'].value_counts()"
   ]
  },
  {
   "cell_type": "code",
   "execution_count": null,
   "metadata": {},
   "outputs": [],
   "source": []
  }
 ],
 "metadata": {
  "kernelspec": {
   "display_name": "Python 3",
   "language": "python",
   "name": "python3"
  },
  "language_info": {
   "codemirror_mode": {
    "name": "ipython",
    "version": 3
   },
   "file_extension": ".py",
   "mimetype": "text/x-python",
   "name": "python",
   "nbconvert_exporter": "python",
   "pygments_lexer": "ipython3",
   "version": "3.11.0"
  },
  "orig_nbformat": 4
 },
 "nbformat": 4,
 "nbformat_minor": 2
}
