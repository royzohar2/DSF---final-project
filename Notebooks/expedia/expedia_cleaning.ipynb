{
 "cells": [
  {
   "cell_type": "code",
   "execution_count": 76,
   "metadata": {},
   "outputs": [],
   "source": [
    "import pandas as pd \n",
    "from datetime import datetime\n",
    "from forex_python.converter import CurrencyRates\n",
    "import re\n"
   ]
  },
  {
   "cell_type": "code",
   "execution_count": 3,
   "metadata": {},
   "outputs": [
    {
     "name": "stderr",
     "output_type": "stream",
     "text": [
      "C:\\Users\\yarin\\AppData\\Local\\Temp\\ipykernel_5148\\1586826330.py:1: DtypeWarning: Columns (13,14,16) have mixed types. Specify dtype option on import or set low_memory=False.\n",
      "  Expedia_hotels = pd.read_csv('Expedia_hotels.csv')\n"
     ]
    }
   ],
   "source": [
    "Expedia_hotels = pd.read_csv('Expedia_hotels.csv')"
   ]
  },
  {
   "cell_type": "code",
   "execution_count": 80,
   "metadata": {},
   "outputs": [],
   "source": [
    "df = Expedia_hotels.copy()"
   ]
  },
  {
   "cell_type": "code",
   "execution_count": 81,
   "metadata": {},
   "outputs": [
    {
     "name": "stdout",
     "output_type": "stream",
     "text": [
      "<class 'pandas.core.frame.DataFrame'>\n",
      "RangeIndex: 36000 entries, 0 to 35999\n",
      "Data columns (total 17 columns):\n",
      " #   Column                  Non-Null Count  Dtype  \n",
      "---  ------                  --------------  -----  \n",
      " 0   Snapshot                36000 non-null  object \n",
      " 1   Index                   36000 non-null  int64  \n",
      " 2   Hotel Name              35980 non-null  object \n",
      " 3   TTT                     35980 non-null  float64\n",
      " 4   LOS                     35980 non-null  float64\n",
      " 5   Grade                   35468 non-null  float64\n",
      " 6   Num of Reviews          35468 non-null  object \n",
      " 7   Curr Price              35980 non-null  object \n",
      " 8   Original Price          15342 non-null  object \n",
      " 9   Percentage of discount  35980 non-null  float64\n",
      " 10  Distance from center    35980 non-null  float64\n",
      " 11  Type of room            35980 non-null  float64\n",
      " 12  Location grade          35980 non-null  float64\n",
      " 13  Is refundable           35980 non-null  object \n",
      " 14  Late payment            35980 non-null  object \n",
      " 15  Breakfast included      6804 non-null   object \n",
      " 16  Option Member           35980 non-null  object \n",
      "dtypes: float64(7), int64(1), object(9)\n",
      "memory usage: 4.7+ MB\n"
     ]
    }
   ],
   "source": [
    "df.info()"
   ]
  },
  {
   "cell_type": "code",
   "execution_count": 82,
   "metadata": {},
   "outputs": [],
   "source": [
    "df['Snapshot'] = df['Snapshot'].apply(lambda x: datetime.strptime(x, '%Y-%m-%d %H:%M:%S.%f').date())\n",
    "df = df.loc[df['Index'] < 100]\n",
    "df['Index'] = df['Index'] + 1\n",
    "df['TTT'] = df['TTT'].astype('int64')\n",
    "df['LOS'] = df['LOS'].astype('int64')\n"
   ]
  },
  {
   "cell_type": "code",
   "execution_count": 84,
   "metadata": {},
   "outputs": [],
   "source": [
    "df['Num of Reviews'] = df['Num of Reviews'].apply(lambda x: int(re.sub(\"[^0-9]\", \"\", x)) if not pd.isnull(x) else x)"
   ]
  },
  {
   "cell_type": "code",
   "execution_count": 85,
   "metadata": {},
   "outputs": [
    {
     "data": {
      "text/plain": [
       "0        1296.0\n",
       "1        1002.0\n",
       "2         305.0\n",
       "3        3123.0\n",
       "4        1465.0\n",
       "          ...  \n",
       "35975    1000.0\n",
       "35976    1000.0\n",
       "35977    1001.0\n",
       "35978     999.0\n",
       "35979    1106.0\n",
       "Name: Num of Reviews, Length: 30000, dtype: float64"
      ]
     },
     "execution_count": 85,
     "metadata": {},
     "output_type": "execute_result"
    }
   ],
   "source": [
    "df['Num of Reviews']"
   ]
  },
  {
   "cell_type": "code",
   "execution_count": 87,
   "metadata": {},
   "outputs": [
    {
     "data": {
      "text/plain": [
       "count    29494.000000\n",
       "mean         8.404733\n",
       "std          0.645410\n",
       "min          5.600000\n",
       "25%          8.000000\n",
       "50%          8.600000\n",
       "75%          8.800000\n",
       "max         10.000000\n",
       "Name: Grade, dtype: float64"
      ]
     },
     "execution_count": 87,
     "metadata": {},
     "output_type": "execute_result"
    }
   ],
   "source": [
    "df['Grade'].describe()"
   ]
  },
  {
   "cell_type": "code",
   "execution_count": 88,
   "metadata": {},
   "outputs": [
    {
     "data": {
      "text/plain": [
       "Latisha luxury place                148\n",
       "Moxy Brooklyn Willamsburg           115\n",
       "The FIDI Hotel                      111\n",
       "The Ritz-Carlton New York, NoMad    107\n",
       "The Flat NYC                         23\n",
       "Latisha house                         2\n",
       "Name: Hotel Name, dtype: int64"
      ]
     },
     "execution_count": 88,
     "metadata": {},
     "output_type": "execute_result"
    }
   ],
   "source": [
    "df.loc[pd.isnull(df['Grade'])]['Hotel Name'].value_counts()"
   ]
  },
  {
   "cell_type": "code",
   "execution_count": 89,
   "metadata": {},
   "outputs": [
    {
     "data": {
      "text/plain": [
       "Latisha luxury place                148\n",
       "Moxy Brooklyn Willamsburg           115\n",
       "The FIDI Hotel                      111\n",
       "The Ritz-Carlton New York, NoMad    107\n",
       "The Flat NYC                         23\n",
       "Latisha house                         2\n",
       "Name: Hotel Name, dtype: int64"
      ]
     },
     "execution_count": 89,
     "metadata": {},
     "output_type": "execute_result"
    }
   ],
   "source": [
    "df.loc[pd.isnull(df['Num of Reviews'])]['Hotel Name'].value_counts()"
   ]
  },
  {
   "cell_type": "code",
   "execution_count": 90,
   "metadata": {},
   "outputs": [],
   "source": [
    "df['Curr Price'] = df['Curr Price'].apply(lambda x: x.split('€')[1])"
   ]
  },
  {
   "cell_type": "code",
   "execution_count": 91,
   "metadata": {},
   "outputs": [],
   "source": [
    "df['Original Price'] = df['Original Price'].apply(lambda x: x.split('€')[1] if not pd.isnull(x) else x)"
   ]
  },
  {
   "cell_type": "code",
   "execution_count": 92,
   "metadata": {},
   "outputs": [
    {
     "data": {
      "text/plain": [
       "0          360\n",
       "1          NaN\n",
       "2          493\n",
       "3          NaN\n",
       "4          NaN\n",
       "         ...  \n",
       "35975      NaN\n",
       "35976    1,958\n",
       "35977    2,150\n",
       "35978      NaN\n",
       "35979      NaN\n",
       "Name: Original Price, Length: 30000, dtype: object"
      ]
     },
     "execution_count": 92,
     "metadata": {},
     "output_type": "execute_result"
    }
   ],
   "source": [
    "df['Original Price']"
   ]
  },
  {
   "cell_type": "code",
   "execution_count": 93,
   "metadata": {},
   "outputs": [
    {
     "data": {
      "text/plain": [
       "0          360\n",
       "1          217\n",
       "2          493\n",
       "3          328\n",
       "4          428\n",
       "         ...  \n",
       "35975    1,656\n",
       "35976    1,958\n",
       "35977    2,150\n",
       "35978    1,926\n",
       "35979    1,461\n",
       "Name: Original Price, Length: 30000, dtype: object"
      ]
     },
     "execution_count": 93,
     "metadata": {},
     "output_type": "execute_result"
    }
   ],
   "source": [
    "df['Original Price'] = df.apply(lambda x: x['Curr Price']  if pd.isnull(x['Original Price']) else x['Original Price'], axis = 1)\n",
    "df['Original Price']"
   ]
  },
  {
   "cell_type": "code",
   "execution_count": 94,
   "metadata": {},
   "outputs": [],
   "source": [
    "df['Original Price'] = df['Original Price'].apply(lambda x: int(x.replace(',','')))\n",
    "df['Curr Price'] = df['Curr Price'].apply(lambda x: int(x.replace(',','')))"
   ]
  },
  {
   "cell_type": "code",
   "execution_count": 95,
   "metadata": {},
   "outputs": [
    {
     "data": {
      "text/plain": [
       "0         360\n",
       "1         217\n",
       "2         493\n",
       "3         328\n",
       "4         428\n",
       "         ... \n",
       "35975    1656\n",
       "35976    1958\n",
       "35977    2150\n",
       "35978    1926\n",
       "35979    1461\n",
       "Name: Original Price, Length: 30000, dtype: int64"
      ]
     },
     "execution_count": 95,
     "metadata": {},
     "output_type": "execute_result"
    }
   ],
   "source": [
    "df['Original Price']"
   ]
  },
  {
   "cell_type": "code",
   "execution_count": 96,
   "metadata": {},
   "outputs": [],
   "source": [
    "c = CurrencyRates()\n",
    "x = df['Snapshot'].unique()\n",
    "curr_dict = {}\n",
    "for date in x:\n",
    "    curr_dict[date] = c.get_rate('EUR','USD', date) \n",
    "\n"
   ]
  },
  {
   "cell_type": "code",
   "execution_count": 97,
   "metadata": {},
   "outputs": [
    {
     "data": {
      "text/plain": [
       "1.0646"
      ]
     },
     "execution_count": 97,
     "metadata": {},
     "output_type": "execute_result"
    }
   ],
   "source": [
    "curr_dict[df['Snapshot'].iloc[0]]"
   ]
  },
  {
   "cell_type": "code",
   "execution_count": 98,
   "metadata": {},
   "outputs": [
    {
     "data": {
      "text/plain": [
       "0         360\n",
       "1         217\n",
       "2         493\n",
       "3         328\n",
       "4         428\n",
       "         ... \n",
       "35975    1656\n",
       "35976    1958\n",
       "35977    2150\n",
       "35978    1926\n",
       "35979    1461\n",
       "Name: Original Price, Length: 30000, dtype: int64"
      ]
     },
     "execution_count": 98,
     "metadata": {},
     "output_type": "execute_result"
    }
   ],
   "source": [
    "df['Original Price']"
   ]
  },
  {
   "cell_type": "code",
   "execution_count": 99,
   "metadata": {},
   "outputs": [],
   "source": [
    "df['Original Price'] = df.apply(lambda x: (x['Original Price']*curr_dict[x['Snapshot']])/x['LOS']  , axis = 1)\n",
    "df['Curr Price'] = df.apply(lambda x: (x['Curr Price']*curr_dict[x['Snapshot']])/x['LOS']  , axis = 1)\n"
   ]
  },
  {
   "cell_type": "code",
   "execution_count": 100,
   "metadata": {},
   "outputs": [],
   "source": [
    "df['Original Price'] = df['Original Price'].apply(lambda x: round(x,1))\n",
    "df['Curr Price'] = df['Curr Price'].apply(lambda x: round(x,1))"
   ]
  },
  {
   "cell_type": "code",
   "execution_count": 101,
   "metadata": {},
   "outputs": [
    {
     "data": {
      "text/html": [
       "<div>\n",
       "<style scoped>\n",
       "    .dataframe tbody tr th:only-of-type {\n",
       "        vertical-align: middle;\n",
       "    }\n",
       "\n",
       "    .dataframe tbody tr th {\n",
       "        vertical-align: top;\n",
       "    }\n",
       "\n",
       "    .dataframe thead th {\n",
       "        text-align: right;\n",
       "    }\n",
       "</style>\n",
       "<table border=\"1\" class=\"dataframe\">\n",
       "  <thead>\n",
       "    <tr style=\"text-align: right;\">\n",
       "      <th></th>\n",
       "      <th>Original Price</th>\n",
       "      <th>Curr Price</th>\n",
       "    </tr>\n",
       "  </thead>\n",
       "  <tbody>\n",
       "    <tr>\n",
       "      <th>0</th>\n",
       "      <td>383.3</td>\n",
       "      <td>296.0</td>\n",
       "    </tr>\n",
       "    <tr>\n",
       "      <th>1</th>\n",
       "      <td>231.0</td>\n",
       "      <td>231.0</td>\n",
       "    </tr>\n",
       "    <tr>\n",
       "      <th>2</th>\n",
       "      <td>524.8</td>\n",
       "      <td>478.0</td>\n",
       "    </tr>\n",
       "    <tr>\n",
       "      <th>3</th>\n",
       "      <td>349.2</td>\n",
       "      <td>349.2</td>\n",
       "    </tr>\n",
       "    <tr>\n",
       "      <th>4</th>\n",
       "      <td>455.6</td>\n",
       "      <td>455.6</td>\n",
       "    </tr>\n",
       "    <tr>\n",
       "      <th>...</th>\n",
       "      <td>...</td>\n",
       "      <td>...</td>\n",
       "    </tr>\n",
       "    <tr>\n",
       "      <th>35975</th>\n",
       "      <td>353.2</td>\n",
       "      <td>353.2</td>\n",
       "    </tr>\n",
       "    <tr>\n",
       "      <th>35976</th>\n",
       "      <td>417.6</td>\n",
       "      <td>351.3</td>\n",
       "    </tr>\n",
       "    <tr>\n",
       "      <th>35977</th>\n",
       "      <td>458.6</td>\n",
       "      <td>412.9</td>\n",
       "    </tr>\n",
       "    <tr>\n",
       "      <th>35978</th>\n",
       "      <td>410.8</td>\n",
       "      <td>410.8</td>\n",
       "    </tr>\n",
       "    <tr>\n",
       "      <th>35979</th>\n",
       "      <td>311.6</td>\n",
       "      <td>311.6</td>\n",
       "    </tr>\n",
       "  </tbody>\n",
       "</table>\n",
       "<p>30000 rows × 2 columns</p>\n",
       "</div>"
      ],
      "text/plain": [
       "       Original Price  Curr Price\n",
       "0               383.3       296.0\n",
       "1               231.0       231.0\n",
       "2               524.8       478.0\n",
       "3               349.2       349.2\n",
       "4               455.6       455.6\n",
       "...               ...         ...\n",
       "35975           353.2       353.2\n",
       "35976           417.6       351.3\n",
       "35977           458.6       412.9\n",
       "35978           410.8       410.8\n",
       "35979           311.6       311.6\n",
       "\n",
       "[30000 rows x 2 columns]"
      ]
     },
     "execution_count": 101,
     "metadata": {},
     "output_type": "execute_result"
    }
   ],
   "source": [
    "df[['Original Price','Curr Price']]"
   ]
  },
  {
   "cell_type": "code",
   "execution_count": 102,
   "metadata": {},
   "outputs": [],
   "source": [
    "df.drop(['Percentage of discount', 'Distance from center', 'Type of room',\n",
    "       'Location grade'], axis = 1, inplace=True)"
   ]
  },
  {
   "cell_type": "code",
   "execution_count": 105,
   "metadata": {},
   "outputs": [],
   "source": [
    "df[['Is refundable','Late payment', 'Option Member']] = df[['Is refundable','Late payment', 'Option Member']].astype('int64')"
   ]
  },
  {
   "cell_type": "code",
   "execution_count": 108,
   "metadata": {},
   "outputs": [
    {
     "data": {
      "text/plain": [
       "0    29740\n",
       "1      260\n",
       "Name: Late payment, dtype: int64"
      ]
     },
     "execution_count": 108,
     "metadata": {},
     "output_type": "execute_result"
    }
   ],
   "source": [
    "df['Late payment'].value_counts()"
   ]
  },
  {
   "cell_type": "code",
   "execution_count": null,
   "metadata": {},
   "outputs": [],
   "source": []
  }
 ],
 "metadata": {
  "kernelspec": {
   "display_name": "Python 3",
   "language": "python",
   "name": "python3"
  },
  "language_info": {
   "codemirror_mode": {
    "name": "ipython",
    "version": 3
   },
   "file_extension": ".py",
   "mimetype": "text/x-python",
   "name": "python",
   "nbconvert_exporter": "python",
   "pygments_lexer": "ipython3",
   "version": "3.11.0"
  },
  "orig_nbformat": 4
 },
 "nbformat": 4,
 "nbformat_minor": 2
}
