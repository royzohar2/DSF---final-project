{
 "cells": [
  {
   "cell_type": "code",
   "execution_count": 76,
   "metadata": {},
   "outputs": [],
   "source": [
    "import pandas as pd \n",
    "from datetime import datetime\n",
    "from forex_python.converter import CurrencyRates\n",
    "import re\n"
   ]
  },
  {
   "cell_type": "code",
   "execution_count": 111,
   "metadata": {},
   "outputs": [
    {
     "name": "stderr",
     "output_type": "stream",
     "text": [
      "C:\\Users\\yarin\\AppData\\Local\\Temp\\ipykernel_5148\\1586826330.py:1: DtypeWarning: Columns (13,14,16) have mixed types. Specify dtype option on import or set low_memory=False.\n",
      "  Expedia_hotels = pd.read_csv('Expedia_hotels.csv')\n"
     ]
    }
   ],
   "source": [
    "Expedia_hotels = pd.read_csv('Expedia_hotels.csv')"
   ]
  },
  {
   "cell_type": "code",
   "execution_count": 112,
   "metadata": {},
   "outputs": [],
   "source": [
    "df = Expedia_hotels.copy()"
   ]
  },
  {
   "cell_type": "code",
   "execution_count": 113,
   "metadata": {},
   "outputs": [
    {
     "name": "stdout",
     "output_type": "stream",
     "text": [
      "<class 'pandas.core.frame.DataFrame'>\n",
      "RangeIndex: 36000 entries, 0 to 35999\n",
      "Data columns (total 17 columns):\n",
      " #   Column                  Non-Null Count  Dtype  \n",
      "---  ------                  --------------  -----  \n",
      " 0   Snapshot                36000 non-null  object \n",
      " 1   Index                   36000 non-null  int64  \n",
      " 2   Hotel Name              35980 non-null  object \n",
      " 3   TTT                     35980 non-null  float64\n",
      " 4   LOS                     35980 non-null  float64\n",
      " 5   Grade                   35468 non-null  float64\n",
      " 6   Num of Reviews          35468 non-null  object \n",
      " 7   Curr Price              35980 non-null  object \n",
      " 8   Original Price          15342 non-null  object \n",
      " 9   Percentage of discount  35980 non-null  float64\n",
      " 10  Distance from center    35980 non-null  float64\n",
      " 11  Type of room            35980 non-null  float64\n",
      " 12  Location grade          35980 non-null  float64\n",
      " 13  Is refundable           35980 non-null  object \n",
      " 14  Late payment            35980 non-null  object \n",
      " 15  Extras included         6804 non-null   object \n",
      " 16  Option Member           35980 non-null  object \n",
      "dtypes: float64(7), int64(1), object(9)\n",
      "memory usage: 4.7+ MB\n"
     ]
    }
   ],
   "source": [
    "df.info()"
   ]
  },
  {
   "cell_type": "code",
   "execution_count": 114,
   "metadata": {},
   "outputs": [],
   "source": [
    "df['Snapshot'] = df['Snapshot'].apply(lambda x: datetime.strptime(x, '%Y-%m-%d %H:%M:%S.%f').date())\n",
    "df = df.loc[df['Index'] < 100]\n",
    "df['Index'] = df['Index'] + 1\n",
    "df['TTT'] = df['TTT'].astype('int64')\n",
    "df['LOS'] = df['LOS'].astype('int64')\n"
   ]
  },
  {
   "cell_type": "code",
   "execution_count": 115,
   "metadata": {},
   "outputs": [],
   "source": [
    "df['Num of Reviews'] = df['Num of Reviews'].apply(lambda x: int(re.sub(\"[^0-9]\", \"\", x)) if not pd.isnull(x) else x)"
   ]
  },
  {
   "cell_type": "code",
   "execution_count": 116,
   "metadata": {},
   "outputs": [
    {
     "data": {
      "text/plain": [
       "0        1296.0\n",
       "1        1002.0\n",
       "2         305.0\n",
       "3        3123.0\n",
       "4        1465.0\n",
       "          ...  \n",
       "35975    1000.0\n",
       "35976    1000.0\n",
       "35977    1001.0\n",
       "35978     999.0\n",
       "35979    1106.0\n",
       "Name: Num of Reviews, Length: 30000, dtype: float64"
      ]
     },
     "execution_count": 116,
     "metadata": {},
     "output_type": "execute_result"
    }
   ],
   "source": [
    "df['Num of Reviews']"
   ]
  },
  {
   "cell_type": "code",
   "execution_count": 117,
   "metadata": {},
   "outputs": [
    {
     "data": {
      "text/plain": [
       "count    29494.000000\n",
       "mean         8.404733\n",
       "std          0.645410\n",
       "min          5.600000\n",
       "25%          8.000000\n",
       "50%          8.600000\n",
       "75%          8.800000\n",
       "max         10.000000\n",
       "Name: Grade, dtype: float64"
      ]
     },
     "execution_count": 117,
     "metadata": {},
     "output_type": "execute_result"
    }
   ],
   "source": [
    "df['Grade'].describe()"
   ]
  },
  {
   "cell_type": "code",
   "execution_count": 118,
   "metadata": {},
   "outputs": [
    {
     "data": {
      "text/plain": [
       "Latisha luxury place                148\n",
       "Moxy Brooklyn Willamsburg           115\n",
       "The FIDI Hotel                      111\n",
       "The Ritz-Carlton New York, NoMad    107\n",
       "The Flat NYC                         23\n",
       "Latisha house                         2\n",
       "Name: Hotel Name, dtype: int64"
      ]
     },
     "execution_count": 118,
     "metadata": {},
     "output_type": "execute_result"
    }
   ],
   "source": [
    "df.loc[pd.isnull(df['Grade'])]['Hotel Name'].value_counts()"
   ]
  },
  {
   "cell_type": "code",
   "execution_count": 119,
   "metadata": {},
   "outputs": [
    {
     "data": {
      "text/plain": [
       "Latisha luxury place                148\n",
       "Moxy Brooklyn Willamsburg           115\n",
       "The FIDI Hotel                      111\n",
       "The Ritz-Carlton New York, NoMad    107\n",
       "The Flat NYC                         23\n",
       "Latisha house                         2\n",
       "Name: Hotel Name, dtype: int64"
      ]
     },
     "execution_count": 119,
     "metadata": {},
     "output_type": "execute_result"
    }
   ],
   "source": [
    "df.loc[pd.isnull(df['Num of Reviews'])]['Hotel Name'].value_counts()"
   ]
  },
  {
   "cell_type": "code",
   "execution_count": 120,
   "metadata": {},
   "outputs": [],
   "source": [
    "df['Curr Price'] = df['Curr Price'].apply(lambda x: x.split('€')[1])"
   ]
  },
  {
   "cell_type": "code",
   "execution_count": 121,
   "metadata": {},
   "outputs": [],
   "source": [
    "df['Original Price'] = df['Original Price'].apply(lambda x: x.split('€')[1] if not pd.isnull(x) else x)"
   ]
  },
  {
   "cell_type": "code",
   "execution_count": 122,
   "metadata": {},
   "outputs": [
    {
     "data": {
      "text/plain": [
       "0          360\n",
       "1          NaN\n",
       "2          493\n",
       "3          NaN\n",
       "4          NaN\n",
       "         ...  \n",
       "35975      NaN\n",
       "35976    1,958\n",
       "35977    2,150\n",
       "35978      NaN\n",
       "35979      NaN\n",
       "Name: Original Price, Length: 30000, dtype: object"
      ]
     },
     "execution_count": 122,
     "metadata": {},
     "output_type": "execute_result"
    }
   ],
   "source": [
    "df['Original Price']"
   ]
  },
  {
   "cell_type": "code",
   "execution_count": 123,
   "metadata": {},
   "outputs": [
    {
     "data": {
      "text/plain": [
       "0          360\n",
       "1          217\n",
       "2          493\n",
       "3          328\n",
       "4          428\n",
       "         ...  \n",
       "35975    1,656\n",
       "35976    1,958\n",
       "35977    2,150\n",
       "35978    1,926\n",
       "35979    1,461\n",
       "Name: Original Price, Length: 30000, dtype: object"
      ]
     },
     "execution_count": 123,
     "metadata": {},
     "output_type": "execute_result"
    }
   ],
   "source": [
    "df['Original Price'] = df.apply(lambda x: x['Curr Price']  if pd.isnull(x['Original Price']) else x['Original Price'], axis = 1)\n",
    "df['Original Price']"
   ]
  },
  {
   "cell_type": "code",
   "execution_count": 124,
   "metadata": {},
   "outputs": [],
   "source": [
    "df['Original Price'] = df['Original Price'].apply(lambda x: int(x.replace(',','')))\n",
    "df['Curr Price'] = df['Curr Price'].apply(lambda x: int(x.replace(',','')))"
   ]
  },
  {
   "cell_type": "code",
   "execution_count": 125,
   "metadata": {},
   "outputs": [
    {
     "data": {
      "text/plain": [
       "0         360\n",
       "1         217\n",
       "2         493\n",
       "3         328\n",
       "4         428\n",
       "         ... \n",
       "35975    1656\n",
       "35976    1958\n",
       "35977    2150\n",
       "35978    1926\n",
       "35979    1461\n",
       "Name: Original Price, Length: 30000, dtype: int64"
      ]
     },
     "execution_count": 125,
     "metadata": {},
     "output_type": "execute_result"
    }
   ],
   "source": [
    "df['Original Price']  "
   ]
  },
  {
   "cell_type": "code",
   "execution_count": 126,
   "metadata": {},
   "outputs": [],
   "source": [
    "c = CurrencyRates()\n",
    "x = df['Snapshot'].unique()\n",
    "curr_dict = {}\n",
    "for date in x:\n",
    "    curr_dict[date] = c.get_rate('EUR','USD', date) \n",
    "\n"
   ]
  },
  {
   "cell_type": "code",
   "execution_count": 127,
   "metadata": {},
   "outputs": [
    {
     "data": {
      "text/plain": [
       "1.0646"
      ]
     },
     "execution_count": 127,
     "metadata": {},
     "output_type": "execute_result"
    }
   ],
   "source": [
    "curr_dict[df['Snapshot'].iloc[0]]"
   ]
  },
  {
   "cell_type": "code",
   "execution_count": 128,
   "metadata": {},
   "outputs": [
    {
     "data": {
      "text/plain": [
       "0         360\n",
       "1         217\n",
       "2         493\n",
       "3         328\n",
       "4         428\n",
       "         ... \n",
       "35975    1656\n",
       "35976    1958\n",
       "35977    2150\n",
       "35978    1926\n",
       "35979    1461\n",
       "Name: Original Price, Length: 30000, dtype: int64"
      ]
     },
     "execution_count": 128,
     "metadata": {},
     "output_type": "execute_result"
    }
   ],
   "source": [
    "df['Original Price']"
   ]
  },
  {
   "cell_type": "code",
   "execution_count": 129,
   "metadata": {},
   "outputs": [],
   "source": [
    "df['Original Price'] = df.apply(lambda x: (x['Original Price']*curr_dict[x['Snapshot']])/x['LOS']  , axis = 1)\n",
    "df['Curr Price'] = df.apply(lambda x: (x['Curr Price']*curr_dict[x['Snapshot']])/x['LOS']  , axis = 1)\n"
   ]
  },
  {
   "cell_type": "code",
   "execution_count": 130,
   "metadata": {},
   "outputs": [],
   "source": [
    "df['Original Price'] = df['Original Price'].apply(lambda x: round(x,1))\n",
    "df['Curr Price'] = df['Curr Price'].apply(lambda x: round(x,1))"
   ]
  },
  {
   "cell_type": "code",
   "execution_count": 131,
   "metadata": {},
   "outputs": [
    {
     "data": {
      "text/html": [
       "<div>\n",
       "<style scoped>\n",
       "    .dataframe tbody tr th:only-of-type {\n",
       "        vertical-align: middle;\n",
       "    }\n",
       "\n",
       "    .dataframe tbody tr th {\n",
       "        vertical-align: top;\n",
       "    }\n",
       "\n",
       "    .dataframe thead th {\n",
       "        text-align: right;\n",
       "    }\n",
       "</style>\n",
       "<table border=\"1\" class=\"dataframe\">\n",
       "  <thead>\n",
       "    <tr style=\"text-align: right;\">\n",
       "      <th></th>\n",
       "      <th>Original Price</th>\n",
       "      <th>Curr Price</th>\n",
       "    </tr>\n",
       "  </thead>\n",
       "  <tbody>\n",
       "    <tr>\n",
       "      <th>0</th>\n",
       "      <td>383.3</td>\n",
       "      <td>296.0</td>\n",
       "    </tr>\n",
       "    <tr>\n",
       "      <th>1</th>\n",
       "      <td>231.0</td>\n",
       "      <td>231.0</td>\n",
       "    </tr>\n",
       "    <tr>\n",
       "      <th>2</th>\n",
       "      <td>524.8</td>\n",
       "      <td>478.0</td>\n",
       "    </tr>\n",
       "    <tr>\n",
       "      <th>3</th>\n",
       "      <td>349.2</td>\n",
       "      <td>349.2</td>\n",
       "    </tr>\n",
       "    <tr>\n",
       "      <th>4</th>\n",
       "      <td>455.6</td>\n",
       "      <td>455.6</td>\n",
       "    </tr>\n",
       "    <tr>\n",
       "      <th>...</th>\n",
       "      <td>...</td>\n",
       "      <td>...</td>\n",
       "    </tr>\n",
       "    <tr>\n",
       "      <th>35975</th>\n",
       "      <td>353.2</td>\n",
       "      <td>353.2</td>\n",
       "    </tr>\n",
       "    <tr>\n",
       "      <th>35976</th>\n",
       "      <td>417.6</td>\n",
       "      <td>351.3</td>\n",
       "    </tr>\n",
       "    <tr>\n",
       "      <th>35977</th>\n",
       "      <td>458.6</td>\n",
       "      <td>412.9</td>\n",
       "    </tr>\n",
       "    <tr>\n",
       "      <th>35978</th>\n",
       "      <td>410.8</td>\n",
       "      <td>410.8</td>\n",
       "    </tr>\n",
       "    <tr>\n",
       "      <th>35979</th>\n",
       "      <td>311.6</td>\n",
       "      <td>311.6</td>\n",
       "    </tr>\n",
       "  </tbody>\n",
       "</table>\n",
       "<p>30000 rows × 2 columns</p>\n",
       "</div>"
      ],
      "text/plain": [
       "       Original Price  Curr Price\n",
       "0               383.3       296.0\n",
       "1               231.0       231.0\n",
       "2               524.8       478.0\n",
       "3               349.2       349.2\n",
       "4               455.6       455.6\n",
       "...               ...         ...\n",
       "35975           353.2       353.2\n",
       "35976           417.6       351.3\n",
       "35977           458.6       412.9\n",
       "35978           410.8       410.8\n",
       "35979           311.6       311.6\n",
       "\n",
       "[30000 rows x 2 columns]"
      ]
     },
     "execution_count": 131,
     "metadata": {},
     "output_type": "execute_result"
    }
   ],
   "source": [
    "df[['Original Price','Curr Price']]"
   ]
  },
  {
   "cell_type": "code",
   "execution_count": 132,
   "metadata": {},
   "outputs": [],
   "source": [
    "df.drop(['Percentage of discount', 'Distance from center', 'Type of room',\n",
    "       'Location grade'], axis = 1, inplace=True)"
   ]
  },
  {
   "cell_type": "code",
   "execution_count": 133,
   "metadata": {},
   "outputs": [],
   "source": [
    "df[['Is refundable','Late payment', 'Option Member']] = df[['Is refundable','Late payment', 'Option Member']].astype('int64')"
   ]
  },
  {
   "cell_type": "code",
   "execution_count": 137,
   "metadata": {},
   "outputs": [],
   "source": [
    "df['Extras included'] = df['Extras included'].apply(lambda x: 1 if not pd.isnull(x) else 0)"
   ]
  },
  {
   "cell_type": "code",
   "execution_count": 140,
   "metadata": {},
   "outputs": [
    {
     "data": {
      "text/html": [
       "<div>\n",
       "<style scoped>\n",
       "    .dataframe tbody tr th:only-of-type {\n",
       "        vertical-align: middle;\n",
       "    }\n",
       "\n",
       "    .dataframe tbody tr th {\n",
       "        vertical-align: top;\n",
       "    }\n",
       "\n",
       "    .dataframe thead th {\n",
       "        text-align: right;\n",
       "    }\n",
       "</style>\n",
       "<table border=\"1\" class=\"dataframe\">\n",
       "  <thead>\n",
       "    <tr style=\"text-align: right;\">\n",
       "      <th></th>\n",
       "      <th>Snapshot</th>\n",
       "      <th>Index</th>\n",
       "      <th>Hotel Name</th>\n",
       "      <th>TTT</th>\n",
       "      <th>LOS</th>\n",
       "      <th>Grade</th>\n",
       "      <th>Num of Reviews</th>\n",
       "      <th>Curr Price</th>\n",
       "      <th>Original Price</th>\n",
       "      <th>Is refundable</th>\n",
       "      <th>Late payment</th>\n",
       "      <th>Extras included</th>\n",
       "      <th>Option Member</th>\n",
       "    </tr>\n",
       "  </thead>\n",
       "  <tbody>\n",
       "    <tr>\n",
       "      <th>0</th>\n",
       "      <td>2023-03-06</td>\n",
       "      <td>1</td>\n",
       "      <td>Hotel 32 32</td>\n",
       "      <td>1</td>\n",
       "      <td>1</td>\n",
       "      <td>8.0</td>\n",
       "      <td>1296.0</td>\n",
       "      <td>296.0</td>\n",
       "      <td>383.3</td>\n",
       "      <td>0</td>\n",
       "      <td>0</td>\n",
       "      <td>0</td>\n",
       "      <td>0</td>\n",
       "    </tr>\n",
       "    <tr>\n",
       "      <th>1</th>\n",
       "      <td>2023-03-06</td>\n",
       "      <td>2</td>\n",
       "      <td>Sonesta Simply Suites Jersey City</td>\n",
       "      <td>1</td>\n",
       "      <td>1</td>\n",
       "      <td>8.4</td>\n",
       "      <td>1002.0</td>\n",
       "      <td>231.0</td>\n",
       "      <td>231.0</td>\n",
       "      <td>1</td>\n",
       "      <td>0</td>\n",
       "      <td>0</td>\n",
       "      <td>0</td>\n",
       "    </tr>\n",
       "    <tr>\n",
       "      <th>2</th>\n",
       "      <td>2023-03-06</td>\n",
       "      <td>3</td>\n",
       "      <td>Park Lane New York</td>\n",
       "      <td>1</td>\n",
       "      <td>1</td>\n",
       "      <td>8.8</td>\n",
       "      <td>305.0</td>\n",
       "      <td>478.0</td>\n",
       "      <td>524.8</td>\n",
       "      <td>0</td>\n",
       "      <td>0</td>\n",
       "      <td>0</td>\n",
       "      <td>0</td>\n",
       "    </tr>\n",
       "    <tr>\n",
       "      <th>3</th>\n",
       "      <td>2023-03-06</td>\n",
       "      <td>4</td>\n",
       "      <td>Arlo Midtown</td>\n",
       "      <td>1</td>\n",
       "      <td>1</td>\n",
       "      <td>9.2</td>\n",
       "      <td>3123.0</td>\n",
       "      <td>349.2</td>\n",
       "      <td>349.2</td>\n",
       "      <td>1</td>\n",
       "      <td>0</td>\n",
       "      <td>0</td>\n",
       "      <td>1</td>\n",
       "    </tr>\n",
       "    <tr>\n",
       "      <th>4</th>\n",
       "      <td>2023-03-06</td>\n",
       "      <td>5</td>\n",
       "      <td>PUBLIC, an Ian Schrager hotel</td>\n",
       "      <td>1</td>\n",
       "      <td>1</td>\n",
       "      <td>8.0</td>\n",
       "      <td>1465.0</td>\n",
       "      <td>455.6</td>\n",
       "      <td>455.6</td>\n",
       "      <td>0</td>\n",
       "      <td>0</td>\n",
       "      <td>0</td>\n",
       "      <td>1</td>\n",
       "    </tr>\n",
       "    <tr>\n",
       "      <th>5</th>\n",
       "      <td>2023-03-06</td>\n",
       "      <td>6</td>\n",
       "      <td>Hard Rock Hotel New York</td>\n",
       "      <td>1</td>\n",
       "      <td>1</td>\n",
       "      <td>9.2</td>\n",
       "      <td>716.0</td>\n",
       "      <td>577.0</td>\n",
       "      <td>577.0</td>\n",
       "      <td>1</td>\n",
       "      <td>0</td>\n",
       "      <td>0</td>\n",
       "      <td>1</td>\n",
       "    </tr>\n",
       "    <tr>\n",
       "      <th>6</th>\n",
       "      <td>2023-03-06</td>\n",
       "      <td>7</td>\n",
       "      <td>Hotel Edison Times Square</td>\n",
       "      <td>1</td>\n",
       "      <td>1</td>\n",
       "      <td>7.8</td>\n",
       "      <td>2758.0</td>\n",
       "      <td>272.5</td>\n",
       "      <td>272.5</td>\n",
       "      <td>1</td>\n",
       "      <td>0</td>\n",
       "      <td>1</td>\n",
       "      <td>1</td>\n",
       "    </tr>\n",
       "    <tr>\n",
       "      <th>7</th>\n",
       "      <td>2023-03-06</td>\n",
       "      <td>8</td>\n",
       "      <td>YOTEL New York Times Square</td>\n",
       "      <td>1</td>\n",
       "      <td>1</td>\n",
       "      <td>7.0</td>\n",
       "      <td>1889.0</td>\n",
       "      <td>234.2</td>\n",
       "      <td>255.5</td>\n",
       "      <td>0</td>\n",
       "      <td>0</td>\n",
       "      <td>0</td>\n",
       "      <td>1</td>\n",
       "    </tr>\n",
       "    <tr>\n",
       "      <th>8</th>\n",
       "      <td>2023-03-06</td>\n",
       "      <td>9</td>\n",
       "      <td>Moxy Brooklyn Willamsburg</td>\n",
       "      <td>1</td>\n",
       "      <td>1</td>\n",
       "      <td>NaN</td>\n",
       "      <td>NaN</td>\n",
       "      <td>257.6</td>\n",
       "      <td>257.6</td>\n",
       "      <td>0</td>\n",
       "      <td>0</td>\n",
       "      <td>0</td>\n",
       "      <td>0</td>\n",
       "    </tr>\n",
       "    <tr>\n",
       "      <th>9</th>\n",
       "      <td>2023-03-06</td>\n",
       "      <td>10</td>\n",
       "      <td>New York Marriott Marquis</td>\n",
       "      <td>1</td>\n",
       "      <td>1</td>\n",
       "      <td>9.0</td>\n",
       "      <td>1543.0</td>\n",
       "      <td>572.8</td>\n",
       "      <td>572.8</td>\n",
       "      <td>0</td>\n",
       "      <td>0</td>\n",
       "      <td>0</td>\n",
       "      <td>0</td>\n",
       "    </tr>\n",
       "    <tr>\n",
       "      <th>10</th>\n",
       "      <td>2023-03-06</td>\n",
       "      <td>11</td>\n",
       "      <td>Millennium Hotel Broadway Times Square</td>\n",
       "      <td>1</td>\n",
       "      <td>1</td>\n",
       "      <td>7.0</td>\n",
       "      <td>6075.0</td>\n",
       "      <td>214.0</td>\n",
       "      <td>233.1</td>\n",
       "      <td>1</td>\n",
       "      <td>0</td>\n",
       "      <td>0</td>\n",
       "      <td>1</td>\n",
       "    </tr>\n",
       "    <tr>\n",
       "      <th>11</th>\n",
       "      <td>2023-03-06</td>\n",
       "      <td>12</td>\n",
       "      <td>The Westin New York at Times Square</td>\n",
       "      <td>1</td>\n",
       "      <td>1</td>\n",
       "      <td>8.6</td>\n",
       "      <td>2154.0</td>\n",
       "      <td>531.2</td>\n",
       "      <td>531.2</td>\n",
       "      <td>0</td>\n",
       "      <td>0</td>\n",
       "      <td>0</td>\n",
       "      <td>0</td>\n",
       "    </tr>\n",
       "    <tr>\n",
       "      <th>12</th>\n",
       "      <td>2023-03-06</td>\n",
       "      <td>13</td>\n",
       "      <td>Margaritaville Resort Times Square</td>\n",
       "      <td>1</td>\n",
       "      <td>1</td>\n",
       "      <td>9.0</td>\n",
       "      <td>1679.0</td>\n",
       "      <td>342.8</td>\n",
       "      <td>342.8</td>\n",
       "      <td>0</td>\n",
       "      <td>0</td>\n",
       "      <td>1</td>\n",
       "      <td>0</td>\n",
       "    </tr>\n",
       "    <tr>\n",
       "      <th>13</th>\n",
       "      <td>2023-03-06</td>\n",
       "      <td>14</td>\n",
       "      <td>The Manhattan at Times Square Hotel</td>\n",
       "      <td>1</td>\n",
       "      <td>1</td>\n",
       "      <td>5.6</td>\n",
       "      <td>2651.0</td>\n",
       "      <td>143.7</td>\n",
       "      <td>169.3</td>\n",
       "      <td>0</td>\n",
       "      <td>0</td>\n",
       "      <td>0</td>\n",
       "      <td>1</td>\n",
       "    </tr>\n",
       "    <tr>\n",
       "      <th>14</th>\n",
       "      <td>2023-03-06</td>\n",
       "      <td>15</td>\n",
       "      <td>Hyatt Grand Central New York</td>\n",
       "      <td>1</td>\n",
       "      <td>1</td>\n",
       "      <td>7.8</td>\n",
       "      <td>1680.0</td>\n",
       "      <td>462.0</td>\n",
       "      <td>462.0</td>\n",
       "      <td>0</td>\n",
       "      <td>0</td>\n",
       "      <td>0</td>\n",
       "      <td>0</td>\n",
       "    </tr>\n",
       "    <tr>\n",
       "      <th>15</th>\n",
       "      <td>2023-03-06</td>\n",
       "      <td>16</td>\n",
       "      <td>M Social Hotel Times Square New York</td>\n",
       "      <td>1</td>\n",
       "      <td>1</td>\n",
       "      <td>8.8</td>\n",
       "      <td>2832.0</td>\n",
       "      <td>363.0</td>\n",
       "      <td>398.2</td>\n",
       "      <td>1</td>\n",
       "      <td>0</td>\n",
       "      <td>0</td>\n",
       "      <td>0</td>\n",
       "    </tr>\n",
       "    <tr>\n",
       "      <th>16</th>\n",
       "      <td>2023-03-06</td>\n",
       "      <td>17</td>\n",
       "      <td>Park Central Hotel New York</td>\n",
       "      <td>1</td>\n",
       "      <td>1</td>\n",
       "      <td>8.0</td>\n",
       "      <td>1908.0</td>\n",
       "      <td>304.5</td>\n",
       "      <td>333.2</td>\n",
       "      <td>0</td>\n",
       "      <td>0</td>\n",
       "      <td>0</td>\n",
       "      <td>1</td>\n",
       "    </tr>\n",
       "    <tr>\n",
       "      <th>17</th>\n",
       "      <td>2023-03-06</td>\n",
       "      <td>18</td>\n",
       "      <td>Equinox Hotel New York</td>\n",
       "      <td>1</td>\n",
       "      <td>1</td>\n",
       "      <td>9.0</td>\n",
       "      <td>307.0</td>\n",
       "      <td>1146.6</td>\n",
       "      <td>1146.6</td>\n",
       "      <td>1</td>\n",
       "      <td>0</td>\n",
       "      <td>1</td>\n",
       "      <td>1</td>\n",
       "    </tr>\n",
       "    <tr>\n",
       "      <th>18</th>\n",
       "      <td>2023-03-06</td>\n",
       "      <td>19</td>\n",
       "      <td>InterContinental New York Times Square, an IHG...</td>\n",
       "      <td>1</td>\n",
       "      <td>1</td>\n",
       "      <td>8.2</td>\n",
       "      <td>1055.0</td>\n",
       "      <td>435.4</td>\n",
       "      <td>435.4</td>\n",
       "      <td>0</td>\n",
       "      <td>0</td>\n",
       "      <td>0</td>\n",
       "      <td>0</td>\n",
       "    </tr>\n",
       "    <tr>\n",
       "      <th>19</th>\n",
       "      <td>2023-03-06</td>\n",
       "      <td>20</td>\n",
       "      <td>The Langham, New York, Fifth Avenue</td>\n",
       "      <td>1</td>\n",
       "      <td>1</td>\n",
       "      <td>9.4</td>\n",
       "      <td>1004.0</td>\n",
       "      <td>1405.3</td>\n",
       "      <td>1405.3</td>\n",
       "      <td>1</td>\n",
       "      <td>0</td>\n",
       "      <td>0</td>\n",
       "      <td>0</td>\n",
       "    </tr>\n",
       "  </tbody>\n",
       "</table>\n",
       "</div>"
      ],
      "text/plain": [
       "      Snapshot  Index                                         Hotel Name  TTT  \\\n",
       "0   2023-03-06      1                                        Hotel 32 32    1   \n",
       "1   2023-03-06      2                  Sonesta Simply Suites Jersey City    1   \n",
       "2   2023-03-06      3                                 Park Lane New York    1   \n",
       "3   2023-03-06      4                                       Arlo Midtown    1   \n",
       "4   2023-03-06      5                      PUBLIC, an Ian Schrager hotel    1   \n",
       "5   2023-03-06      6                           Hard Rock Hotel New York    1   \n",
       "6   2023-03-06      7                          Hotel Edison Times Square    1   \n",
       "7   2023-03-06      8                        YOTEL New York Times Square    1   \n",
       "8   2023-03-06      9                          Moxy Brooklyn Willamsburg    1   \n",
       "9   2023-03-06     10                          New York Marriott Marquis    1   \n",
       "10  2023-03-06     11             Millennium Hotel Broadway Times Square    1   \n",
       "11  2023-03-06     12                The Westin New York at Times Square    1   \n",
       "12  2023-03-06     13                 Margaritaville Resort Times Square    1   \n",
       "13  2023-03-06     14                The Manhattan at Times Square Hotel    1   \n",
       "14  2023-03-06     15                       Hyatt Grand Central New York    1   \n",
       "15  2023-03-06     16               M Social Hotel Times Square New York    1   \n",
       "16  2023-03-06     17                        Park Central Hotel New York    1   \n",
       "17  2023-03-06     18                             Equinox Hotel New York    1   \n",
       "18  2023-03-06     19  InterContinental New York Times Square, an IHG...    1   \n",
       "19  2023-03-06     20                The Langham, New York, Fifth Avenue    1   \n",
       "\n",
       "    LOS  Grade  Num of Reviews  Curr Price  Original Price  Is refundable  \\\n",
       "0     1    8.0          1296.0       296.0           383.3              0   \n",
       "1     1    8.4          1002.0       231.0           231.0              1   \n",
       "2     1    8.8           305.0       478.0           524.8              0   \n",
       "3     1    9.2          3123.0       349.2           349.2              1   \n",
       "4     1    8.0          1465.0       455.6           455.6              0   \n",
       "5     1    9.2           716.0       577.0           577.0              1   \n",
       "6     1    7.8          2758.0       272.5           272.5              1   \n",
       "7     1    7.0          1889.0       234.2           255.5              0   \n",
       "8     1    NaN             NaN       257.6           257.6              0   \n",
       "9     1    9.0          1543.0       572.8           572.8              0   \n",
       "10    1    7.0          6075.0       214.0           233.1              1   \n",
       "11    1    8.6          2154.0       531.2           531.2              0   \n",
       "12    1    9.0          1679.0       342.8           342.8              0   \n",
       "13    1    5.6          2651.0       143.7           169.3              0   \n",
       "14    1    7.8          1680.0       462.0           462.0              0   \n",
       "15    1    8.8          2832.0       363.0           398.2              1   \n",
       "16    1    8.0          1908.0       304.5           333.2              0   \n",
       "17    1    9.0           307.0      1146.6          1146.6              1   \n",
       "18    1    8.2          1055.0       435.4           435.4              0   \n",
       "19    1    9.4          1004.0      1405.3          1405.3              1   \n",
       "\n",
       "    Late payment  Extras included  Option Member  \n",
       "0              0                0              0  \n",
       "1              0                0              0  \n",
       "2              0                0              0  \n",
       "3              0                0              1  \n",
       "4              0                0              1  \n",
       "5              0                0              1  \n",
       "6              0                1              1  \n",
       "7              0                0              1  \n",
       "8              0                0              0  \n",
       "9              0                0              0  \n",
       "10             0                0              1  \n",
       "11             0                0              0  \n",
       "12             0                1              0  \n",
       "13             0                0              1  \n",
       "14             0                0              0  \n",
       "15             0                0              0  \n",
       "16             0                0              1  \n",
       "17             0                1              1  \n",
       "18             0                0              0  \n",
       "19             0                0              0  "
      ]
     },
     "execution_count": 140,
     "metadata": {},
     "output_type": "execute_result"
    }
   ],
   "source": [
    "df.head(20)"
   ]
  },
  {
   "cell_type": "code",
   "execution_count": null,
   "metadata": {},
   "outputs": [],
   "source": []
  }
 ],
 "metadata": {
  "kernelspec": {
   "display_name": "Python 3",
   "language": "python",
   "name": "python3"
  },
  "language_info": {
   "codemirror_mode": {
    "name": "ipython",
    "version": 3
   },
   "file_extension": ".py",
   "mimetype": "text/x-python",
   "name": "python",
   "nbconvert_exporter": "python",
   "pygments_lexer": "ipython3",
   "version": "3.11.0"
  },
  "orig_nbformat": 4
 },
 "nbformat": 4,
 "nbformat_minor": 2
}
