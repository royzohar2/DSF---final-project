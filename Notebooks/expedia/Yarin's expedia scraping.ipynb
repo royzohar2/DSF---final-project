{
 "cells": [
  {
   "cell_type": "code",
   "execution_count": 2,
   "id": "273037d0",
   "metadata": {},
   "outputs": [],
   "source": [
    "from bs4 import BeautifulSoup\n",
    "import requests\n",
    "\n",
    "from selenium import webdriver\n",
    "from selenium.webdriver.chrome.service import Service\n",
    "from selenium.webdriver.chrome.options import Options\n",
    "from webdriver_manager.chrome import ChromeDriverManager\n",
    "from selenium.webdriver.support.select import Select\n",
    "\n",
    "import time\n",
    "import datetime\n",
    "import numpy as np\n",
    "\n",
    "import pandas as pd\n"
   ]
  },
  {
   "cell_type": "code",
   "execution_count": 3,
   "id": "0b719937",
   "metadata": {},
   "outputs": [],
   "source": [
    "options = Options()\n",
    "options.add_experimental_option(\"detach\", True)\n",
    "driver = webdriver.Chrome(service=Service(ChromeDriverManager().install()), options=options)\n"
   ]
  },
  {
   "cell_type": "code",
   "execution_count": 34,
   "id": "f7994c99",
   "metadata": {},
   "outputs": [],
   "source": [
    "hotels_df = pd.DataFrame(columns=['Snapshot',\n",
    "                                  'Index',\n",
    "                                  'Hotel Name',\n",
    "                                  'TTT',\n",
    "                                  'LOS',\n",
    "                                  'Grade',\n",
    "                                  'Num of Reviews',\n",
    "                                  'Curr Price',\n",
    "                                  'Original Price',\n",
    "                                  'Percentage of discount',\n",
    "                                  'Distance from center',\n",
    "                                  'Type of room',\n",
    "                                  'Location grade',\n",
    "                                  'Is refundable',\n",
    "                                  'Late payment',\n",
    "                                  'Breakfast included',\n",
    "                                  'Option Member'])\n",
    "\n",
    "temp_df = hotels_df.copy()\n",
    " "
   ]
  },
  {
   "cell_type": "code",
   "execution_count": 37,
   "id": "6c4570ab",
   "metadata": {},
   "outputs": [],
   "source": [
    "def hotels_to_df(hotels_list,df,start_date, end_date):\n",
    "    for i in range(0,120):\n",
    "            try:   \n",
    "                df.at[i, 'Snapshot'] = pd.Timestamp.today()\n",
    "                df.loc[i, 'Index'] = i\n",
    "                df.at[i, 'Hotel Name']  = hotels_list[i].find('h4').text\n",
    "                df.at[i, 'TTT'] = (start_date - datetime.date.today()).days\n",
    "                df.at[i, 'LOS'] = (end_date - start_date).days\n",
    "                grade_element = hotels_list[i].find('span', class_='uitk-spacing uitk-spacing-padding-inlineend-half uitk-layout-flex-item')\n",
    "                df.at[i, 'Grade'] = grade_element.text if grade_element is not None else np.nan\n",
    "                reviews_element = hotels_list[i].find_all('span', class_=\"uitk-text uitk-type-300 uitk-text-default-theme\")\n",
    "                df.at[i, 'Num of Reviews'] = reviews_element[-1].text if len(reviews_element) > 0 else np.nan\n",
    "                prices_list = hotels_list[i].find_all('div', class_=\"uitk-text uitk-type-300 uitk-text-default-theme is-visually-hidden\")\n",
    "                df.at[i, 'Curr Price'] = prices_list[1].text if len(prices_list) > 1 else prices_list[0].text\n",
    "                df.at[i, 'Original Price'] = prices_list[0].text if len(prices_list) > 1 else np.nan\n",
    "                df.at[i, 'Percentage of discount'] = 0\n",
    "                df.at[i , 'Distance from center'] = 0\n",
    "                df.at[i, 'Type of room'] = 0\n",
    "                df.at[i, 'Location grade'] = 0\n",
    "                refundable_element = hotels_list[i].find('div', class_=\"uitk-layout-flex uitk-layout-flex-flex-direction-column uitk-layout-flex-gap-three\").find_all('span')\n",
    "                df.at[i, 'Is refundable'] = True if len(refundable_element) > 0 and refundable_element[0].text.__contains__('refundable') else False\n",
    "                late_payment_element = hotels_list[i].find('div', class_=\"uitk-layout-flex uitk-layout-flex-flex-direction-column uitk-layout-flex-gap-three\").find_all('span')\n",
    "                df.at[i, 'Late payment'] = True if len(late_payment_element) > 0 and late_payment_element[-1].text.__contains__('later') else False\n",
    "                included_element = hotels_list[i].find('div', class_=\"uitk-text truncate uitk-type-200 uitk-text-default-theme\")\n",
    "                df.at[i, 'Breakfast included'] = included_element.text if included_element is not None else np.nan\n",
    "                member_btn = hotels_list[i].find('a', class_ = 'uitk-button uitk-button-small uitk-button-has-text uitk-button-as-link uitk-layout-flex-item-align-self-flex-end uitk-layout-flex-item uitk-button-primary-alt')\n",
    "                df.at[i, 'Option Member'] = True if member_btn else False\n",
    "            except:\n",
    "                print('error at hotel number: ' , i)\n",
    "    \n",
    "    return df\n",
    "    \n",
    "    "
   ]
  },
  {
   "cell_type": "code",
   "execution_count": 5,
   "id": "3aef8833",
   "metadata": {},
   "outputs": [],
   "source": [
    "def open_url(url):\n",
    "    driver.get(url)\n",
    "    ScrollNumber = 4\n",
    "    for i in range(1,ScrollNumber):\n",
    "        driver.execute_script(\"window.scrollTo(1,5000000)\")\n",
    "        show_more_btn = driver.find_element(\"xpath\",\"//button[@data-stid = 'show-more-results']\")\n",
    "        if show_more_btn:\n",
    "            driver.execute_script(\"arguments[0].click();\", show_more_btn)\n",
    "        else: print(\"Button not found\")\n",
    "        time.sleep(5)"
   ]
  },
  {
   "cell_type": "code",
   "execution_count": 6,
   "id": "898790cc",
   "metadata": {},
   "outputs": [],
   "source": [
    "def get_hotels_list():\n",
    "    page_source = driver.page_source\n",
    "    doc = BeautifulSoup(page_source, 'html.parser')\n",
    "    hotels_list = doc.find_all('div', class_='uitk-card uitk-card-roundcorner-all uitk-card-has-primary-theme')\n",
    "    return hotels_list"
   ]
  },
  {
   "cell_type": "code",
   "execution_count": 7,
   "id": "ba444215",
   "metadata": {},
   "outputs": [],
   "source": [
    "def get_data_from_dates(start_date , end_date, temp_df, hotels_df):\n",
    "    url = \"https://euro.expedia.net/Hotel-Search?adults=2&d1={start_date}&d2={end_date}&destination=New%20York%20%28and%20vicinity%29%2C%20New%20York%2C%20United%20States%20of%20America&endDate={end_date}&latLong=40.75668%2C-73.98647&regionId=178293&rooms=1&semdtl=&sort=RECOMMENDED&startDate={start_date}&theme=&useRewards=false&userIntent=\".format(start_date=start_date, end_date=end_date)\n",
    "    open_url(url)\n",
    "    hotels_list = get_hotels_list()\n",
    "    temp_df = hotels_to_df(hotels_list,temp_df,start_date, end_date)\n",
    "    return pd.concat([hotels_df, temp_df], ignore_index=True, axis=0)\n",
    "    "
   ]
  },
  {
   "cell_type": "code",
   "execution_count": null,
   "id": "6bb335d3",
   "metadata": {},
   "outputs": [],
   "source": [
    "for i in range(1,31):\n",
    "    for j in range(1,6):\n",
    "        try:\n",
    "            start_date = datetime.date.today() + datetime.timedelta(days = i)\n",
    "            end_date = start_date + datetime.timedelta(days = j)\n",
    "            hotels_df = get_data_from_dates(start_date, end_date, temp_df, hotels_df)\n",
    "            temp_df.drop(temp_df.index, inplace=True)\n",
    "        except:\n",
    "            print(\"error at dates: {} - {}\".format(start_date , end_date))\n",
    "\n"
   ]
  },
  {
   "cell_type": "code",
   "execution_count": null,
   "id": "c3a9879a",
   "metadata": {},
   "outputs": [],
   "source": [
    "hotels_df.to_csv(r'C:\\Users\\yarin\\Desktop\\hotels.csv',header=True, index=False, encoding='utf-8')\n"
   ]
  },
  {
   "cell_type": "code",
   "execution_count": null,
   "id": "e64e14fa",
   "metadata": {},
   "outputs": [],
   "source": [
    "last_output_df = hotels_df.copy()"
   ]
  }
 ],
 "metadata": {
  "kernelspec": {
   "display_name": "Python 3",
   "language": "python",
   "name": "python3"
  },
  "language_info": {
   "codemirror_mode": {
    "name": "ipython",
    "version": 3
   },
   "file_extension": ".py",
   "mimetype": "text/x-python",
   "name": "python",
   "nbconvert_exporter": "python",
   "pygments_lexer": "ipython3",
   "version": "3.11.0"
  },
  "vscode": {
   "interpreter": {
    "hash": "1a7bbce60e494674647d4929305447849854a4b412c56dbca8162b6efe21ae06"
   }
  }
 },
 "nbformat": 4,
 "nbformat_minor": 5
}
