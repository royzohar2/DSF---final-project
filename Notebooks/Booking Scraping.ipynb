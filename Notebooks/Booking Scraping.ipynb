{
 "cells": [
  {
   "cell_type": "code",
   "execution_count": null,
   "id": "77755659",
   "metadata": {},
   "outputs": [],
   "source": [
    "import pandas as pd\n",
    "from selenium import webdriver\n",
    "from selenium.webdriver.common.keys import Keys\n",
    "from selenium.webdriver.common.by import By\n",
    "\n",
    "from datetime import datetime, timedelta\n",
    "import time\n",
    "import os\n",
    "\n",
    "import warnings\n",
    "warnings.filterwarnings('ignore')"
   ]
  },
  {
   "cell_type": "code",
   "execution_count": null,
   "id": "09a8d636",
   "metadata": {},
   "outputs": [],
   "source": [
    "#A function get url, direct ,the information on reservation time and df and returns an updated df with the 100 additional hotels.\n",
    "\n",
    "def get_hotels(url , driver ,booking_df,Snapshot_date,checking_date_type,checkout_date_type):\n",
    "    driver.get(url)\n",
    "    hotel_name_list =[]\n",
    "    page_number=1\n",
    "    index = 1\n",
    "    while(len(hotel_name_list) <=100 and page_number<=5): #take 100 hotel\n",
    "        time.sleep(2)\n",
    "        text_box = driver.find_elements(by= By.CLASS_NAME , value='b978843432')\n",
    "        for t_box in text_box:# run on full page\n",
    "            if (len(hotel_name_list) >= 100):\n",
    "                break\n",
    "            try:\n",
    "                hotel = {'Snapshot' : None ,'Index':None,'Hotel Name':None,'TTT':None,'LOS':None ,\"Num of stars\":None,\"Grade\":None,\"Num of Reviews\":None,\"Curr Price\":None,\"Original Price\":None,\"Percentage of discount (Boolean)\":None,\"Distance from center\":None,\"Type of room\":None,\"Location grade\":None}\n",
    "                name = t_box.find_element(by= By.CLASS_NAME , value=\"e13098a59f\").text\n",
    "                name = name.split('\\n')[0]\n",
    "                if(name in hotel_name_list):#Avoid hotels that are advertised several times\n",
    "                    continue   \n",
    "                hotel['Hotel Name'] = (name)\n",
    "                hotel['Snapshot'] = Snapshot_date\n",
    "                delta_TTT =  checking_date_type - Snapshot_date\n",
    "                hotel['TTT'] = delta_TTT.days\n",
    "                delta_LOS = checkout_date_type - checking_date_type\n",
    "                hotel['LOS'] = delta_LOS.days\n",
    "                score_detail = t_box.find_element(by =By.CSS_SELECTOR,value ='[data-testid=\"review-score\"]').text\n",
    "                score_detail_list = score_detail.split('\\n')\n",
    "                hotel[\"Grade\"] = (score_detail_list[0])\n",
    "                hotel[\"Num of Reviews\"] = (score_detail_list[2])\n",
    "                hotel[\"Curr Price\"] = (t_box.find_element(by =By.CSS_SELECTOR,value ='[data-testid=\"price-and-discounted-price\"]').text)\n",
    "                hotel[\"Index\"] = index\n",
    "                index = index +1\n",
    "                booking_df = booking_df.append(hotel, ignore_index=True)\n",
    "                hotel_name_list.append(name) \n",
    "            except:\n",
    "                print(\"error\")\n",
    "        # change page \n",
    "        button=driver.find_element(by =By.CSS_SELECTOR,value =f'[aria-label=\" {page_number+1}\"]')\n",
    "        time.sleep(1.5)\n",
    "        button.click() \n",
    "        page_number = page_number+1\n",
    "    \n",
    "    \n",
    "    return booking_df\n",
    "    "
   ]
  },
  {
   "cell_type": "code",
   "execution_count": null,
   "id": "f1845f9a",
   "metadata": {},
   "outputs": [],
   "source": [
    "#Allows us to run on different computers without a problem\n",
    "\n",
    "path ={'roy' :'C:\\Windows\\chromdriver.exe' , 'yarin': 0 , 'yair':0 }\n",
    "driver = webdriver.Chrome(path['roy'])"
   ]
  },
  {
   "cell_type": "code",
   "execution_count": null,
   "id": "6f1457a3",
   "metadata": {},
   "outputs": [],
   "source": [
    "# Get today's date\n",
    "now = datetime.now()\n",
    "Snapshot_date =now\n",
    "# Get end date 35 days from now\n",
    "end_date = now + timedelta(days=35)\n",
    "\n",
    "# Create a list of all dates between today and end date\n",
    "date_list = []\n",
    "while now <= end_date:\n",
    "    date_list.append(now.strftime('%Y-%m-%d'))\n",
    "    now += timedelta(days=1)\n",
    "\n",
    "\n",
    "#Creates a list whose every member is a list of checking and checkout time\n",
    "\n",
    "combinations_list =[]\n",
    "for i in range(1,len(date_list)-5):\n",
    "    for j in range(1,6):\n",
    "        combinations = [date_list[i],date_list[i+j]]\n",
    "        combinations_list.append(combinations)\n",
    "        \n",
    "print(combinations_list , len(combinations_list))        \n",
    "    "
   ]
  },
  {
   "cell_type": "code",
   "execution_count": null,
   "id": "1fd8e62f",
   "metadata": {},
   "outputs": [],
   "source": [
    "city = \"new york\"\n",
    "numOfAdults=2\n",
    "numOfChild=0\n",
    "numOfRooms=1\n",
    "booking_df = pd.DataFrame(columns=['Snapshot','Index','Hotel Name','TTT' ,'LOS' ,\"Num of stars\",\"Grade\",\"Num of Reviews\",\"Curr Price\",\"Original Price\",\"Percentage of discount (Boolean)\",\"Distance from center\",\"Type of room\",\"Location grade\"])  \n",
    "for comb in combinations_list:\n",
    "    checking_date_type = datetime.strptime(comb[0], '%Y-%m-%d')\n",
    "    checkout_date_type = datetime.strptime(comb[1], '%Y-%m-%d')\n",
    "    checking_date = comb[0].split('-')\n",
    "    checkout_date = comb[1].split('-')\n",
    "    checking_year = checking_date[0]\n",
    "    checking_month = checking_date[1]\n",
    "    checking_monthday =checking_date[2]\n",
    "    checkout_year= checkout_date[0]\n",
    "    checkout_month= checkout_date[1]\n",
    "    checkout_monthday= checkout_date[2]\n",
    "    url = f\"https://www.booking.com/searchresults.html?ss={city}&checkin_year={checking_year}&checkin_month={checking_month}&checkin_monthday={checking_monthday}&checkout_year={checkout_year}&checkout_month={checkout_month}&checkout_monthday={checkout_monthday}&group_adults={numOfAdults}&group_children={numOfChild}&no_rooms={numOfRooms}\"\n",
    "    booking_df = get_hotels(url, driver , booking_df, Snapshot_date,checking_date_type,checkout_date_type)\n",
    "    "
   ]
  },
  {
   "cell_type": "code",
   "execution_count": null,
   "id": "d9050f7b",
   "metadata": {},
   "outputs": [],
   "source": [
    "booking_df.head(6500)"
   ]
  },
  {
   "cell_type": "code",
   "execution_count": null,
   "id": "53cc131b",
   "metadata": {},
   "outputs": [],
   "source": [
    "booking_df.shape"
   ]
  },
  {
   "cell_type": "code",
   "execution_count": null,
   "id": "edcc26d6",
   "metadata": {},
   "outputs": [],
   "source": [
    "booking_df.groupby(['TTT','LOS']).count()"
   ]
  },
  {
   "cell_type": "code",
   "execution_count": null,
   "id": "66737482",
   "metadata": {},
   "outputs": [],
   "source": []
  },
  {
   "cell_type": "code",
   "execution_count": null,
   "id": "43c6293f",
   "metadata": {},
   "outputs": [],
   "source": []
  },
  {
   "cell_type": "code",
   "execution_count": null,
   "id": "f9bc662e",
   "metadata": {},
   "outputs": [],
   "source": []
  },
  {
   "attachments": {},
   "cell_type": "markdown",
   "id": "358c0e1a",
   "metadata": {},
   "source": [
    "here we try find more thing"
   ]
  },
  {
   "cell_type": "code",
   "execution_count": null,
   "id": "97f5635c",
   "metadata": {},
   "outputs": [],
   "source": [
    "path ={'roy' :'C:\\Windows\\chromdriver.exe' , 'yarin': 0 , 'yair':0 }\n",
    "driver = webdriver.Chrome(path['roy'])\n",
    "\n",
    "\n",
    "city = \"new york\"\n",
    "checking_year = 2023\n",
    "checking_month = 3\n",
    "checking_monthday =1\n",
    "checkout_year=2023\n",
    "checkout_month=3\n",
    "checkout_monthday=3\n",
    "numOfAdults=2\n",
    "numOfChild=0\n",
    "numOfRooms=1\n",
    "url = f\"https://www.booking.com/searchresults.html?ss={city}&checkin_year={checking_year}&checkin_month={checking_month}&checkin_monthday={checking_monthday}&checkout_year={checkout_year}&checkout_month={checkout_month}&checkout_monthday={checkout_monthday}&group_adults={numOfAdults}&group_children={numOfChild}&no_rooms={numOfRooms}\"\n",
    "driver.get(url)\n",
    "\n"
   ]
  },
  {
   "cell_type": "code",
   "execution_count": null,
   "id": "3accf6ca",
   "metadata": {},
   "outputs": [],
   "source": [
    "booking_df_test = pd.DataFrame(columns=['Snapshot','Index','Hotel Name','TTT' ,'LOS' ,\"Num of stars\",\"Grade\",\"Num of Reviews\",\"Curr Price\",\"Original Price\",\"Percentage of discount (Boolean)\",\"Distance from center\",\"Type of room\",\"Location grade\"])  \n",
    "\n",
    "hotel_name_list =[]\n",
    "page_number=1\n",
    "index = 1\n",
    "while(len(hotel_name_list) <100 and page_number<6): #take 100 hotel\n",
    "    time.sleep(2)\n",
    "    text_box = driver.find_elements(by= By.CLASS_NAME , value='b978843432')\n",
    "    for t_box in text_box:# run on full page\n",
    "        try:\n",
    "            hotel = {'Snapshot' : None ,'Index':None,'Hotel Name':None,'TTT':None,'LOS':None ,\"Num of stars\":None,\"Grade\":None,\"Num of Reviews\":None,\"Curr Price\":None,\"Original Price\":None,\"Percentage of discount (Boolean)\":None,\"Distance from center\":None,\"Type of room\":None,\"Location grade\":None}\n",
    "            name = t_box.find_element(by= By.CLASS_NAME , value=\"e13098a59f\").text\n",
    "            name = name.split('\\n')[0]  \n",
    "            hotel['Hotel Name'] = (name)\n",
    "            score_detail = t_box.find_element(by =By.CSS_SELECTOR,value ='[data-testid=\"review-score\"]').text\n",
    "            score_detail_list = score_detail.split('\\n')\n",
    "            hotel[\"Grade\"] = (score_detail_list[0])\n",
    "            hotel[\"Num of Reviews\"] = (score_detail_list[2])\n",
    "            hotel[\"Curr Price\"] = (t_box.find_element(by =By.CSS_SELECTOR,value ='[data-testid=\"price-and-discounted-price\"]').text)\n",
    "            hotel[\"Index\"] = index\n",
    "            index = index +1\n",
    "            booking_df_test.append(hotel, ignore_index=True)\n",
    "            hotel_name_list.append(name) \n",
    "        except:\n",
    "            print(\"error\")\n",
    "    # change page        \n",
    "    button=driver.find_element(by =By.CSS_SELECTOR,value =f'[aria-label=\" {page_number+1}\"]')\n",
    "    time.sleep(1.5)\n",
    "    button.click() \n",
    "    page_number = page_number+1\n",
    "    \n",
    "    "
   ]
  },
  {
   "cell_type": "code",
   "execution_count": null,
   "id": "3c076971",
   "metadata": {},
   "outputs": [],
   "source": [
    "booking_df_test.head(200)"
   ]
  },
  {
   "cell_type": "code",
   "execution_count": null,
   "id": "b40d6c24",
   "metadata": {},
   "outputs": [],
   "source": [
    "booking_df_test.shape"
   ]
  }
 ],
 "metadata": {
  "kernelspec": {
   "display_name": "base",
   "language": "python",
   "name": "python3"
  },
  "language_info": {
   "codemirror_mode": {
    "name": "ipython",
    "version": 3
   },
   "file_extension": ".py",
   "mimetype": "text/x-python",
   "name": "python",
   "nbconvert_exporter": "python",
   "pygments_lexer": "ipython3",
   "version": "3.9.13 (main, Aug 25 2022, 23:51:50) [MSC v.1916 64 bit (AMD64)]"
  },
  "vscode": {
   "interpreter": {
    "hash": "ad2bdc8ecc057115af97d19610ffacc2b4e99fae6737bb82f5d7fb13d2f2c186"
   }
  }
 },
 "nbformat": 4,
 "nbformat_minor": 5
}
